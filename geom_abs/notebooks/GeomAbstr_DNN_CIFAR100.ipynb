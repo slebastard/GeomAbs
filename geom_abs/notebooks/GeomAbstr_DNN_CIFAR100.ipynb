{
 "cells": [
  {
   "cell_type": "markdown",
   "metadata": {},
   "source": [
    "# Geometry of abstraction - DNN for CIFAR100 recognition and information structure"
   ]
  },
  {
   "cell_type": "markdown",
   "metadata": {},
   "source": [
    "The geometry of abstraction in hippocampus and prefrontal cortex <br>\n",
    "Silvia Bernardi, Marcus K Benna, Mattia Rigotti, Jérôme Munuera, Stefano Fusi, Daniel Salzman <br>\n",
    "bioRxiv 2018"
   ]
  },
  {
   "cell_type": "code",
   "execution_count": 1,
   "metadata": {},
   "outputs": [
    {
     "name": "stderr",
     "output_type": "stream",
     "text": [
      "Using TensorFlow backend.\n"
     ]
    }
   ],
   "source": [
    "import pdb\n",
    "from tqdm import tqdm\n",
    "\n",
    "import numpy as np\n",
    "import pandas as pd\n",
    "\n",
    "from numpy.random import shuffle\n",
    "\n",
    "from matplotlib import pyplot as plt\n",
    "%matplotlib widget\n",
    "\n",
    "from sklearn.decomposition import PCA\n",
    "\n",
    "from keras.models import Sequential\n",
    "from keras.layers import Dense, Activation"
   ]
  },
  {
   "cell_type": "code",
   "execution_count": 2,
   "metadata": {},
   "outputs": [],
   "source": [
    "from keras.datasets import cifar100"
   ]
  },
  {
   "cell_type": "code",
   "execution_count": 3,
   "metadata": {},
   "outputs": [],
   "source": [
    "import os, sys\n",
    "lib_path = os.path.abspath('../methods')\n",
    "sys.path.insert(0, lib_path)"
   ]
  },
  {
   "cell_type": "code",
   "execution_count": 4,
   "metadata": {},
   "outputs": [],
   "source": [
    "from model import Model, ImageDataset"
   ]
  },
  {
   "cell_type": "code",
   "execution_count": 5,
   "metadata": {},
   "outputs": [],
   "source": [
    "import ssl\n",
    "import urllib\n",
    "\n",
    "#ssl._create_default_https_context = ssl._create_unverified_context\n",
    "#urllib.request.urlopen('https://www.cs.toronto.edu/~kriz/cifar-100-python.tar.gz')\n",
    "\n",
    "(x_train, y_train), (x_test, y_test) = cifar100.load_data()\n",
    "filt_labels = range(12)\n",
    "cifar_12 = ImageDataset(x_train, y_train, x_test, y_test, filt_labels=filt_labels, spl=0.15)"
   ]
  },
  {
   "cell_type": "markdown",
   "metadata": {},
   "source": [
    "Loading MNIST data, unfolding square to long representation:"
   ]
  },
  {
   "cell_type": "code",
   "execution_count": 6,
   "metadata": {},
   "outputs": [],
   "source": [
    "# Currently dichotomies will only be binary\n",
    "cifar_parity = [list(map(lambda x: 2*x, range(6))), list(map(lambda x: 2*x + 1, range(6)))]\n",
    "cifar_smallness = [range(0,6), range(6,12)]"
   ]
  },
  {
   "cell_type": "code",
   "execution_count": 7,
   "metadata": {},
   "outputs": [],
   "source": [
    "cifar_12.build_dichLabels(cifar_smallness, 'smaller_than_6')\n",
    "cifar_12.build_dichLabels(cifar_parity, 'parity')\n",
    "\n",
    "cifar_12.hstack_dichs('parity', 'smaller_than_6')"
   ]
  },
  {
   "cell_type": "code",
   "execution_count": 8,
   "metadata": {},
   "outputs": [
    {
     "data": {
      "text/plain": [
       "array([[0., 0., 0., ..., 0., 0., 0.],\n",
       "       [0., 0., 0., ..., 0., 0., 0.],\n",
       "       [0., 0., 0., ..., 1., 0., 0.],\n",
       "       ...,\n",
       "       [0., 0., 0., ..., 0., 0., 0.],\n",
       "       [0., 0., 0., ..., 0., 0., 0.],\n",
       "       [0., 0., 0., ..., 0., 1., 0.]])"
      ]
     },
     "execution_count": 8,
     "metadata": {},
     "output_type": "execute_result"
    }
   ],
   "source": [
    "cifar_12.train['y_ohe']"
   ]
  },
  {
   "cell_type": "code",
   "execution_count": 9,
   "metadata": {},
   "outputs": [
    {
     "data": {
      "text/plain": [
       "array([[ True, False, False,  True],\n",
       "       [ True, False,  True, False],\n",
       "       [False,  True, False,  True],\n",
       "       ...,\n",
       "       [ True, False, False,  True],\n",
       "       [ True, False, False,  True],\n",
       "       [ True, False, False,  True]])"
      ]
     },
     "execution_count": 9,
     "metadata": {},
     "output_type": "execute_result"
    }
   ],
   "source": [
    "cifar_12.train['dichs']['parity_hstack_smaller_than_6']"
   ]
  },
  {
   "cell_type": "code",
   "execution_count": 10,
   "metadata": {},
   "outputs": [],
   "source": [
    " # Alright, let's start with a three layer NN\n",
    "w_in = cifar_12.tot_dim\n",
    "w_1 = 500\n",
    "w_2 = 200\n",
    "w_3 = 100\n",
    "w_out = 4\n",
    "max_epochs = 400"
   ]
  },
  {
   "cell_type": "code",
   "execution_count": 11,
   "metadata": {},
   "outputs": [],
   "source": [
    "spl_size = 75\n",
    "spl_ids = np.arange(cifar_12.n_train)\n",
    "shuffle(spl_ids)\n",
    "spl_ids = spl_ids[:spl_size]\n",
    "\n",
    "cifar_12.spl = {\n",
    "    'x': cifar_12.train['x'][spl_ids],\n",
    "    'y': cifar_12.train['y'][spl_ids]\n",
    "}"
   ]
  },
  {
   "cell_type": "code",
   "execution_count": 12,
   "metadata": {},
   "outputs": [],
   "source": [
    "# Currently dichotomies will only be binary\n",
    "cifar_range = [range(0,4), range(4,8), range(8,12)]"
   ]
  },
  {
   "cell_type": "code",
   "execution_count": 13,
   "metadata": {},
   "outputs": [],
   "source": [
    "cifar_12.build_dichLabels(cifar_range, 'range_bins')\n",
    "\n",
    "cifar_12.hstack_dichs('parity', 'range_bins')"
   ]
  },
  {
   "cell_type": "code",
   "execution_count": 14,
   "metadata": {},
   "outputs": [
    {
     "data": {
      "text/plain": [
       "{'test_accuracy': 0.5, 'test_loss': 0.24336727917194367}"
      ]
     },
     "execution_count": 14,
     "metadata": {},
     "output_type": "execute_result"
    }
   ],
   "source": [
    "dnn_ctg_hstack = Sequential([\n",
    "    Dense(w_1, input_shape=(w_in,)),\n",
    "    Activation('tanh'),\n",
    "    Dense(w_2),\n",
    "    Activation('tanh'),\n",
    "    Dense(w_3),\n",
    "    Activation('tanh'),\n",
    "    Dense(5),\n",
    "    Activation('tanh')\n",
    "])\n",
    "\n",
    "model_ctg_hstack = Model(dnn_ctg_hstack)\n",
    "\n",
    "# Train the model, iterating on the data in batches of 32 samples\n",
    "model_ctg_hstack.fit(cifar_12, dich_name='parity_hstack_range_bins', epochs=20, batch_size=32)\n",
    "\n",
    "model_ctg_hstack.evaluate(cifar_12, dich_name='parity_hstack_range_bins', batch_size=128)"
   ]
  },
  {
   "cell_type": "code",
   "execution_count": 15,
   "metadata": {},
   "outputs": [
    {
     "data": {
      "image/png": "[encoded data removed]",
      "text/plain": [
       "<Figure size 576x576 with 3 Axes>"
      ]
     },
     "metadata": {
      "needs_background": "light"
     },
     "output_type": "display_data"
    }
   ],
   "source": [
    "model_ctg_hstack.sample_eval(cifar_12, 3)"
   ]
  },
  {
   "cell_type": "code",
   "execution_count": null,
   "metadata": {},
   "outputs": [],
   "source": [
    "%matplotlib widget\n",
    "pca = PCA(n_components=2)\n",
    "reduced_ctg_hstack_2, fig1 = model_ctg_hstack.get_repr(cifar_12, pca, plotting=True)\n",
    "fig1.canvas.layout.width = '80%'\n",
    "fig1.canvas.layout.height = '5000px'"
   ]
  },
  {
   "cell_type": "code",
   "execution_count": null,
   "metadata": {},
   "outputs": [],
   "source": [
    "%matplotlib widget\n",
    "pca3 = PCA(n_components=3)\n",
    "reduced_ctg_hstack_3, fig2 = model_ctg_hstack.get_repr(cifar_12, pca3, dim=3, plotting=True)\n",
    "fig2.canvas.layout.width = '80%'\n",
    "fig2.canvas.layout.height = '5000px'"
   ]
  }
 ],
 "metadata": {
  "kernelspec": {
   "display_name": "Python 3",
   "language": "python",
   "name": "python3"
  },
  "language_info": {
   "codemirror_mode": {
    "name": "ipython",
    "version": 3
   },
   "file_extension": ".py",
   "mimetype": "text/x-python",
   "name": "python",
   "nbconvert_exporter": "python",
   "pygments_lexer": "ipython3",
   "version": "3.7.6"
  }
 },
 "nbformat": 4,
 "nbformat_minor": 4
}
