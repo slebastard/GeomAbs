{
 "cells": [
  {
   "cell_type": "code",
   "execution_count": 1,
   "metadata": {},
   "outputs": [
    {
     "name": "stderr",
     "output_type": "stream",
     "text": [
      "/home/proprietaire/Envs/GeomAbs/lib/python3.7/site-packages/pandas/compat/__init__.py:85: UserWarning: Could not import the lzma module. Your installed Python is incomplete. Attempting to use lzma compression will result in a RuntimeError.\n",
      "  warnings.warn(msg)\n",
      "Using TensorFlow backend.\n"
     ]
    }
   ],
   "source": [
    "%matplotlib widget\n",
    "\n",
    "import pdb\n",
    "from tqdm import tqdm\n",
    "\n",
    "import numpy as np\n",
    "import pandas as pd\n",
    "\n",
    "from numpy.random import shuffle, choice\n",
    "\n",
    "from matplotlib import pyplot as plt\n",
    "import matplotlib.gridspec as gridspec\n",
    "\n",
    "from sklearn.decomposition import PCA\n",
    "\n",
    "from keras.models import Sequential\n",
    "from keras.layers import Dense, Activation"
   ]
  },
  {
   "cell_type": "code",
   "execution_count": 2,
   "metadata": {},
   "outputs": [],
   "source": [
    "import os, sys\n",
    "lib_path = os.path.abspath('../methods')\n",
    "sys.path.insert(0, lib_path)\n",
    "\n",
    "from models import Model\n",
    "from data_tools import ImageDataset\n",
    "import data_tools as dt"
   ]
  },
  {
   "cell_type": "code",
   "execution_count": 3,
   "metadata": {},
   "outputs": [
    {
     "name": "stdout",
     "output_type": "stream",
     "text": [
      "Class 0 is a rectangle\n"
     ]
    },
    {
     "data": {
      "application/vnd.jupyter.widget-view+json": {
       "model_id": "",
       "version_major": 2,
       "version_minor": 0
      },
      "text/plain": [
       "Canvas(toolbar=Toolbar(toolitems=[('Home', 'Reset original view', 'home', 'home'), ('Back', 'Back to previous …"
      ]
     },
     "metadata": {},
     "output_type": "display_data"
    },
    {
     "name": "stdout",
     "output_type": "stream",
     "text": [
      "Class 1 is a triangle\n"
     ]
    },
    {
     "data": {
      "application/vnd.jupyter.widget-view+json": {
       "model_id": "",
       "version_major": 2,
       "version_minor": 0
      },
      "text/plain": [
       "Canvas(toolbar=Toolbar(toolitems=[('Home', 'Reset original view', 'home', 'home'), ('Back', 'Back to previous …"
      ]
     },
     "metadata": {},
     "output_type": "display_data"
    },
    {
     "name": "stdout",
     "output_type": "stream",
     "text": [
      "Class 2 is a disk\n"
     ]
    },
    {
     "data": {
      "application/vnd.jupyter.widget-view+json": {
       "model_id": "",
       "version_major": 2,
       "version_minor": 0
      },
      "text/plain": [
       "Canvas(toolbar=Toolbar(toolitems=[('Home', 'Reset original view', 'home', 'home'), ('Back', 'Back to previous …"
      ]
     },
     "metadata": {},
     "output_type": "display_data"
    },
    {
     "name": "stdout",
     "output_type": "stream",
     "text": [
      "Class 3 is a triangle\n"
     ]
    },
    {
     "data": {
      "application/vnd.jupyter.widget-view+json": {
       "model_id": "",
       "version_major": 2,
       "version_minor": 0
      },
      "text/plain": [
       "Canvas(toolbar=Toolbar(toolitems=[('Home', 'Reset original view', 'home', 'home'), ('Back', 'Back to previous …"
      ]
     },
     "metadata": {},
     "output_type": "display_data"
    },
    {
     "name": "stdout",
     "output_type": "stream",
     "text": [
      "Class 4 is a rectangle\n"
     ]
    },
    {
     "data": {
      "application/vnd.jupyter.widget-view+json": {
       "model_id": "",
       "version_major": 2,
       "version_minor": 0
      },
      "text/plain": [
       "Canvas(toolbar=Toolbar(toolitems=[('Home', 'Reset original view', 'home', 'home'), ('Back', 'Back to previous …"
      ]
     },
     "metadata": {},
     "output_type": "display_data"
    },
    {
     "name": "stdout",
     "output_type": "stream",
     "text": [
      "Class 5 is a rectangle\n"
     ]
    },
    {
     "data": {
      "application/vnd.jupyter.widget-view+json": {
       "model_id": "",
       "version_major": 2,
       "version_minor": 0
      },
      "text/plain": [
       "Canvas(toolbar=Toolbar(toolitems=[('Home', 'Reset original view', 'home', 'home'), ('Back', 'Back to previous …"
      ]
     },
     "metadata": {},
     "output_type": "display_data"
    },
    {
     "name": "stdout",
     "output_type": "stream",
     "text": [
      "Class 6 is a triangle\n"
     ]
    },
    {
     "data": {
      "application/vnd.jupyter.widget-view+json": {
       "model_id": "",
       "version_major": 2,
       "version_minor": 0
      },
      "text/plain": [
       "Canvas(toolbar=Toolbar(toolitems=[('Home', 'Reset original view', 'home', 'home'), ('Back', 'Back to previous …"
      ]
     },
     "metadata": {},
     "output_type": "display_data"
    },
    {
     "name": "stdout",
     "output_type": "stream",
     "text": [
      "Class 7 is a disk\n"
     ]
    },
    {
     "data": {
      "application/vnd.jupyter.widget-view+json": {
       "model_id": "",
       "version_major": 2,
       "version_minor": 0
      },
      "text/plain": [
       "Canvas(toolbar=Toolbar(toolitems=[('Home', 'Reset original view', 'home', 'home'), ('Back', 'Back to previous …"
      ]
     },
     "metadata": {},
     "output_type": "display_data"
    },
    {
     "name": "stdout",
     "output_type": "stream",
     "text": [
      "Class 8 is a disk\n"
     ]
    },
    {
     "data": {
      "application/vnd.jupyter.widget-view+json": {
       "model_id": "",
       "version_major": 2,
       "version_minor": 0
      },
      "text/plain": [
       "Canvas(toolbar=Toolbar(toolitems=[('Home', 'Reset original view', 'home', 'home'), ('Back', 'Back to previous …"
      ]
     },
     "metadata": {},
     "output_type": "display_data"
    },
    {
     "name": "stdout",
     "output_type": "stream",
     "text": [
      "Class 9 is a rectangle\n"
     ]
    },
    {
     "data": {
      "application/vnd.jupyter.widget-view+json": {
       "model_id": "",
       "version_major": 2,
       "version_minor": 0
      },
      "text/plain": [
       "Canvas(toolbar=Toolbar(toolitems=[('Home', 'Reset original view', 'home', 'home'), ('Back', 'Back to previous …"
      ]
     },
     "metadata": {},
     "output_type": "display_data"
    },
    {
     "name": "stdout",
     "output_type": "stream",
     "text": [
      "Class 10 is a triangle\n"
     ]
    },
    {
     "data": {
      "application/vnd.jupyter.widget-view+json": {
       "model_id": "",
       "version_major": 2,
       "version_minor": 0
      },
      "text/plain": [
       "Canvas(toolbar=Toolbar(toolitems=[('Home', 'Reset original view', 'home', 'home'), ('Back', 'Back to previous …"
      ]
     },
     "metadata": {},
     "output_type": "display_data"
    },
    {
     "name": "stdout",
     "output_type": "stream",
     "text": [
      "Class 11 is a rectangle\n"
     ]
    },
    {
     "data": {
      "application/vnd.jupyter.widget-view+json": {
       "model_id": "",
       "version_major": 2,
       "version_minor": 0
      },
      "text/plain": [
       "Canvas(toolbar=Toolbar(toolitems=[('Home', 'Reset original view', 'home', 'home'), ('Back', 'Back to previous …"
      ]
     },
     "metadata": {},
     "output_type": "display_data"
    },
    {
     "name": "stdout",
     "output_type": "stream",
     "text": [
      "Class 12 is a rectangle\n"
     ]
    },
    {
     "data": {
      "application/vnd.jupyter.widget-view+json": {
       "model_id": "",
       "version_major": 2,
       "version_minor": 0
      },
      "text/plain": [
       "Canvas(toolbar=Toolbar(toolitems=[('Home', 'Reset original view', 'home', 'home'), ('Back', 'Back to previous …"
      ]
     },
     "metadata": {},
     "output_type": "display_data"
    },
    {
     "name": "stdout",
     "output_type": "stream",
     "text": [
      "Class 13 is a rectangle\n"
     ]
    },
    {
     "data": {
      "application/vnd.jupyter.widget-view+json": {
       "model_id": "",
       "version_major": 2,
       "version_minor": 0
      },
      "text/plain": [
       "Canvas(toolbar=Toolbar(toolitems=[('Home', 'Reset original view', 'home', 'home'), ('Back', 'Back to previous …"
      ]
     },
     "metadata": {},
     "output_type": "display_data"
    },
    {
     "name": "stdout",
     "output_type": "stream",
     "text": [
      "Class 14 is a disk\n"
     ]
    },
    {
     "data": {
      "application/vnd.jupyter.widget-view+json": {
       "model_id": "",
       "version_major": 2,
       "version_minor": 0
      },
      "text/plain": [
       "Canvas(toolbar=Toolbar(toolitems=[('Home', 'Reset original view', 'home', 'home'), ('Back', 'Back to previous …"
      ]
     },
     "metadata": {},
     "output_type": "display_data"
    },
    {
     "name": "stdout",
     "output_type": "stream",
     "text": [
      "Class 15 is a triangle\n"
     ]
    },
    {
     "data": {
      "application/vnd.jupyter.widget-view+json": {
       "model_id": "",
       "version_major": 2,
       "version_minor": 0
      },
      "text/plain": [
       "Canvas(toolbar=Toolbar(toolitems=[('Home', 'Reset original view', 'home', 'home'), ('Back', 'Back to previous …"
      ]
     },
     "metadata": {},
     "output_type": "display_data"
    },
    {
     "name": "stdout",
     "output_type": "stream",
     "text": [
      "Class 16 is a triangle\n"
     ]
    },
    {
     "data": {
      "application/vnd.jupyter.widget-view+json": {
       "model_id": "",
       "version_major": 2,
       "version_minor": 0
      },
      "text/plain": [
       "Canvas(toolbar=Toolbar(toolitems=[('Home', 'Reset original view', 'home', 'home'), ('Back', 'Back to previous …"
      ]
     },
     "metadata": {},
     "output_type": "display_data"
    },
    {
     "name": "stdout",
     "output_type": "stream",
     "text": [
      "Class 17 is a rectangle\n"
     ]
    },
    {
     "data": {
      "application/vnd.jupyter.widget-view+json": {
       "model_id": "",
       "version_major": 2,
       "version_minor": 0
      },
      "text/plain": [
       "Canvas(toolbar=Toolbar(toolitems=[('Home', 'Reset original view', 'home', 'home'), ('Back', 'Back to previous …"
      ]
     },
     "metadata": {},
     "output_type": "display_data"
    }
   ],
   "source": [
    "n_train = 1350\n",
    "n_test = 450\n",
    "\n",
    "(x_train, y_train), (x_test, y_test) = dt.generate_nclasses_dataset(\n",
    "    nb_samples=n_train+n_test,\n",
    "    nb_classes=18,\n",
    "    width_in_pixels=56,\n",
    "    noise=60,\n",
    "    free_location=True,\n",
    "    verbose=False,\n",
    "    nb_test_samples=n_test)"
   ]
  },
  {
   "cell_type": "code",
   "execution_count": 4,
   "metadata": {},
   "outputs": [],
   "source": [
    "shapes_18 = ImageDataset(x_train, y_train, x_test, y_test)"
   ]
  },
  {
   "cell_type": "code",
   "execution_count": 5,
   "metadata": {},
   "outputs": [],
   "source": [
    "def display_classes(ds):\n",
    "    fig = plt.figure(figsize=(5, 5*ds.n_labels))\n",
    "    axes = []\n",
    "    gs1 = gridspec.GridSpec(ds.n_labels,1)\n",
    "    gs1.update(wspace=0.025, hspace=0.2)\n",
    "    \n",
    "    for lbl in range(ds.n_labels):\n",
    "        filt_lbl = np.nonzero(np.isin(ds.train['y'], [lbl]))[0]\n",
    "        lbl_spl_id = choice(filt_lbl, size=1)\n",
    "        lbl_spl = ds.train['x'][lbl_spl_id,:]\n",
    "    \n",
    "        ax = plt.subplot(gs1[lbl])\n",
    "        ax.imshow(\n",
    "\t\t\t\tlbl_spl.reshape(ds.axes_dim)\n",
    "\t\t\t)"
   ]
  },
  {
   "cell_type": "code",
   "execution_count": 6,
   "metadata": {},
   "outputs": [
    {
     "data": {
      "application/vnd.jupyter.widget-view+json": {
       "model_id": "25fdb5344046479eae37da6931536097",
       "version_major": 2,
       "version_minor": 0
      },
      "text/plain": [
       "Canvas(toolbar=Toolbar(toolitems=[('Home', 'Reset original view', 'home', 'home'), ('Back', 'Back to previous …"
      ]
     },
     "metadata": {},
     "output_type": "display_data"
    }
   ],
   "source": [
    "display_classes(shapes_18)"
   ]
  },
  {
   "cell_type": "code",
   "execution_count": 7,
   "metadata": {},
   "outputs": [],
   "source": [
    "w_in = shapes_18.tot_dim\n",
    "w_1 = 100\n",
    "w_2 = 100\n",
    "max_epochs = 400"
   ]
  },
  {
   "cell_type": "code",
   "execution_count": 8,
   "metadata": {},
   "outputs": [],
   "source": [
    "# Currently dichotomies will only be binary\n",
    "shapes_parity = [list(map(lambda x: 2*x, range(9))), list(map(lambda x: 2*x + 1, range(9)))]\n",
    "shapes_smallness = [range(0,9), range(9,18)]"
   ]
  },
  {
   "cell_type": "code",
   "execution_count": 9,
   "metadata": {},
   "outputs": [],
   "source": [
    "shapes_18.build_dichLabels(shapes_smallness, 'smaller_than_9')\n",
    "shapes_18.build_dichLabels(shapes_parity, 'parity')\n",
    "\n",
    "shapes_18.hstack_dichs('parity', 'smaller_than_9')"
   ]
  },
  {
   "cell_type": "markdown",
   "metadata": {},
   "source": [
    "## 2) Studying the effect of supervision format for representation in hidden layers\n",
    "\n",
    "### 2.1) Horizontally-stacked supervision"
   ]
  },
  {
   "cell_type": "code",
   "execution_count": 10,
   "metadata": {},
   "outputs": [
    {
     "data": {
      "text/plain": [
       "{'test_loss': 0.0027700039765073195, 'test_accuracy': 0.4511111080646515}"
      ]
     },
     "execution_count": 10,
     "metadata": {},
     "output_type": "execute_result"
    }
   ],
   "source": [
    "dnn_hstack = Sequential([\n",
    "    Dense(w_1, input_shape=(w_in,)),\n",
    "    Activation('tanh'),\n",
    "    Dense(w_2),\n",
    "    Activation('tanh'),\n",
    "    Dense(4),\n",
    "    Activation('tanh')\n",
    "])\n",
    "\n",
    "model_hstack = Model(dnn_hstack)\n",
    "\n",
    "# Train the model, iterating on the data in batches of 32 samples\n",
    "model_hstack.fit(shapes_18, dich_name='parity_hstack_smaller_than_9', epochs=10, batch_size=32)\n",
    "\n",
    "model_hstack.evaluate(shapes_18, dich_name='parity_hstack_smaller_than_9', batch_size=128)"
   ]
  },
  {
   "cell_type": "code",
   "execution_count": 11,
   "metadata": {},
   "outputs": [
    {
     "data": {
      "application/vnd.jupyter.widget-view+json": {
       "model_id": "e004113fe8044a6da4521192423ef673",
       "version_major": 2,
       "version_minor": 0
      },
      "text/plain": [
       "Canvas(toolbar=Toolbar(toolitems=[('Home', 'Reset original view', 'home', 'home'), ('Back', 'Back to previous …"
      ]
     },
     "metadata": {},
     "output_type": "display_data"
    }
   ],
   "source": [
    "model_hstack.sample_eval(shapes_18, 2)"
   ]
  },
  {
   "cell_type": "code",
   "execution_count": 12,
   "metadata": {},
   "outputs": [
    {
     "data": {
      "application/vnd.jupyter.widget-view+json": {
       "model_id": "cd8e75c696634d7ab3189f93ab42d6d9",
       "version_major": 2,
       "version_minor": 0
      },
      "text/plain": [
       "Canvas(toolbar=Toolbar(toolitems=[('Home', 'Reset original view', 'home', 'home'), ('Back', 'Back to previous …"
      ]
     },
     "metadata": {},
     "output_type": "display_data"
    }
   ],
   "source": [
    "pca2 = PCA(n_components=2)\n",
    "\n",
    "reduced_hstack_2d = model_hstack.get_repr(shapes_18, shapes_18.spl, pca2)\n",
    "fig1 = model_hstack.plot_reprs(shapes_18, shapes_18.spl, pca2)\n",
    "\n",
    "fig1.canvas.layout.width = '80%'\n",
    "fig1.canvas.layout.height = '5000px'"
   ]
  },
  {
   "cell_type": "code",
   "execution_count": 13,
   "metadata": {},
   "outputs": [
    {
     "name": "stdout",
     "output_type": "stream",
     "text": [
      "Layer 0 - 75.3% 2d var - 59.8% + 15.5%\n",
      "Layer 1 - 78.4% 2d var - 49.5% + 28.8%\n",
      "Layer 2 - 89.4% 2d var - 60.9% + 28.5%\n",
      "Layer 3 - 85.1% 2d var - 60.3% + 24.8%\n",
      "Layer 4 - 99.9% 2d var - 71.4% + 28.5%\n",
      "Layer 5 - 100.0% 2d var - 69.7% + 30.3%\n"
     ]
    }
   ],
   "source": [
    "for lay_id, rpr in enumerate(reduced_hstack_2d):\n",
    "    print('Layer {0:d} - {1:.1f}% 2d var - {2:.1f}% + {3:.1f}%'.format(lay_id, 100*(rpr['reduced']['expl_var'][0]+rpr['reduced']['expl_var'][1]), 100*rpr['reduced']['expl_var'][0], 100*rpr['reduced']['expl_var'][1]))"
   ]
  },
  {
   "cell_type": "code",
   "execution_count": 14,
   "metadata": {},
   "outputs": [
    {
     "data": {
      "application/vnd.jupyter.widget-view+json": {
       "model_id": "9b3407870631403393bb338fc917a382",
       "version_major": 2,
       "version_minor": 0
      },
      "text/plain": [
       "Canvas(toolbar=Toolbar(toolitems=[('Home', 'Reset original view', 'home', 'home'), ('Back', 'Back to previous …"
      ]
     },
     "metadata": {},
     "output_type": "display_data"
    }
   ],
   "source": [
    "pca3 = PCA(n_components=3)\n",
    "\n",
    "reduced_hstack_3d = model_hstack.get_repr(shapes_18, shapes_18.spl, pca3)\n",
    "fig2 = model_hstack.plot_reprs(shapes_18, shapes_18.spl, pca3)\n",
    "\n",
    "fig2.canvas.layout.width = '80%'\n",
    "fig2.canvas.layout.height = '5000px'"
   ]
  },
  {
   "cell_type": "code",
   "execution_count": 15,
   "metadata": {},
   "outputs": [
    {
     "name": "stdout",
     "output_type": "stream",
     "text": [
      "Layer 0 - 87.9% 3d var - 59.8% + 15.5% + 12.6%\n",
      "Layer 1 - 95.0% 3d var - 49.5% + 28.8% + 16.6%\n",
      "Layer 2 - 98.9% 3d var - 60.9% + 28.5% + 9.5%\n",
      "Layer 3 - 97.2% 3d var - 60.3% + 24.8% + 12.1%\n",
      "Layer 4 - 100.0% 3d var - 71.4% + 28.5% + 0.1%\n",
      "Layer 5 - 100.0% 3d var - 69.7% + 30.3% + 0.0%\n"
     ]
    }
   ],
   "source": [
    "for lay_id, rpr in enumerate(reduced_hstack_3d):\n",
    "    print('Layer {0:d} - {1:.1f}% 3d var - {2:.1f}% + {3:.1f}% + {4:.1f}%'.format(lay_id, 100*(rpr['reduced']['expl_var'][0]+rpr['reduced']['expl_var'][1]+rpr['reduced']['expl_var'][2]), 100*rpr['reduced']['expl_var'][0], 100*rpr['reduced']['expl_var'][1], 100*rpr['reduced']['expl_var'][2]))"
   ]
  },
  {
   "cell_type": "markdown",
   "metadata": {},
   "source": [
    "### 2.2) Product supervision"
   ]
  },
  {
   "cell_type": "code",
   "execution_count": 16,
   "metadata": {},
   "outputs": [],
   "source": [
    "shapes_prod = [list(set(s1).intersection(set(s2))) for s2 in shapes_smallness for s1 in shapes_parity]\n",
    "shapes_18.build_dichLabels(shapes_prod, 'parity_prod_smaller_than_9')"
   ]
  },
  {
   "cell_type": "code",
   "execution_count": 19,
   "metadata": {},
   "outputs": [
    {
     "data": {
      "text/plain": [
       "{'test_loss': 0.0011189340313689576, 'test_accuracy': 1.0}"
      ]
     },
     "execution_count": 19,
     "metadata": {},
     "output_type": "execute_result"
    }
   ],
   "source": [
    "dnn_prod = Sequential([\n",
    "    Dense(w_1, input_shape=(w_in,)),\n",
    "    Activation('tanh'),\n",
    "    Dense(w_2),\n",
    "    Activation('tanh'),\n",
    "    Dense(4),\n",
    "    Activation('tanh')\n",
    "])\n",
    "\n",
    "model = Model(dnn_prod)\n",
    "\n",
    "# Train the model, iterating on the data in batches of 32 samples\n",
    "model.fit(shapes_18, dich_name='parity_prod_smaller_than_9', epochs=10, batch_size=32)\n",
    "\n",
    "model.evaluate(shapes_18, dich_name='parity_prod_smaller_than_9', batch_size=128)"
   ]
  },
  {
   "cell_type": "code",
   "execution_count": 20,
   "metadata": {},
   "outputs": [
    {
     "data": {
      "application/vnd.jupyter.widget-view+json": {
       "model_id": "636db31f748c484d84cf69cee8906d11",
       "version_major": 2,
       "version_minor": 0
      },
      "text/plain": [
       "Canvas(toolbar=Toolbar(toolitems=[('Home', 'Reset original view', 'home', 'home'), ('Back', 'Back to previous …"
      ]
     },
     "metadata": {},
     "output_type": "display_data"
    }
   ],
   "source": [
    "model.sample_eval(shapes_18, 2)"
   ]
  },
  {
   "cell_type": "code",
   "execution_count": 21,
   "metadata": {},
   "outputs": [
    {
     "data": {
      "application/vnd.jupyter.widget-view+json": {
       "model_id": "1c876106896b451788657e6ee9791b6a",
       "version_major": 2,
       "version_minor": 0
      },
      "text/plain": [
       "Canvas(toolbar=Toolbar(toolitems=[('Home', 'Reset original view', 'home', 'home'), ('Back', 'Back to previous …"
      ]
     },
     "metadata": {},
     "output_type": "display_data"
    }
   ],
   "source": [
    "pca2 = PCA(n_components=2)\n",
    "\n",
    "reduced_prod_2d = model.get_repr(shapes_18, shapes_18.spl, pca2)\n",
    "fig3 = model.plot_reprs(shapes_18, shapes_18.spl, pca2)\n",
    "\n",
    "fig3.canvas.layout.width = '80%'\n",
    "fig3.canvas.layout.height = '5000px'"
   ]
  },
  {
   "cell_type": "code",
   "execution_count": 22,
   "metadata": {},
   "outputs": [
    {
     "name": "stdout",
     "output_type": "stream",
     "text": [
      "Layer 0 - 75.0% 2d var - 52.7% + 22.3%\n",
      "Layer 1 - 77.7% 2d var - 45.5% + 32.2%\n",
      "Layer 2 - 82.4% 2d var - 44.5% + 37.8%\n",
      "Layer 3 - 81.6% 2d var - 43.2% + 38.4%\n",
      "Layer 4 - 81.8% 2d var - 46.7% + 35.1%\n",
      "Layer 5 - 81.7% 2d var - 50.8% + 30.8%\n"
     ]
    }
   ],
   "source": [
    "for lay_id, rpr in enumerate(reduced_prod_2d):\n",
    "    print('Layer {0:d} - {1:.1f}% 2d var - {2:.1f}% + {3:.1f}%'.format(lay_id, 100*(rpr['reduced']['expl_var'][0]+rpr['reduced']['expl_var'][1]), 100*rpr['reduced']['expl_var'][0], 100*rpr['reduced']['expl_var'][1]))"
   ]
  },
  {
   "cell_type": "code",
   "execution_count": 23,
   "metadata": {},
   "outputs": [
    {
     "data": {
      "application/vnd.jupyter.widget-view+json": {
       "model_id": "13573b59e3be413f866e860c3e6fdd5f",
       "version_major": 2,
       "version_minor": 0
      },
      "text/plain": [
       "Canvas(toolbar=Toolbar(toolitems=[('Home', 'Reset original view', 'home', 'home'), ('Back', 'Back to previous …"
      ]
     },
     "metadata": {},
     "output_type": "display_data"
    }
   ],
   "source": [
    "pca3 = PCA(n_components=3)\n",
    "\n",
    "reduced_prod_3d = model.get_repr(shapes_18, shapes_18.spl, pca3)\n",
    "fig4 = model.plot_reprs(shapes_18, shapes_18.spl, pca3)\n",
    "\n",
    "fig4.canvas.layout.width = '80%'\n",
    "fig4.canvas.layout.height = '5000px'"
   ]
  },
  {
   "cell_type": "code",
   "execution_count": 24,
   "metadata": {},
   "outputs": [
    {
     "name": "stdout",
     "output_type": "stream",
     "text": [
      "Layer 0 - 88.3% 3d var - 52.7% + 22.3% + 13.4%\n",
      "Layer 1 - 95.3% 3d var - 45.5% + 32.2% + 17.6%\n",
      "Layer 2 - 99.7% 3d var - 44.5% + 37.8% + 17.4%\n",
      "Layer 3 - 99.9% 3d var - 43.2% + 38.4% + 18.3%\n",
      "Layer 4 - 100.0% 3d var - 46.7% + 35.1% + 18.2%\n",
      "Layer 5 - 100.0% 3d var - 50.8% + 30.8% + 18.3%\n"
     ]
    }
   ],
   "source": [
    "for lay_id, rpr in enumerate(reduced_prod_3d):\n",
    "    print('Layer {0:d} - {1:.1f}% 3d var - {2:.1f}% + {3:.1f}% + {4:.1f}%'.format(lay_id, 100*(rpr['reduced']['expl_var'][0]+rpr['reduced']['expl_var'][1]+rpr['reduced']['expl_var'][2]), 100*rpr['reduced']['expl_var'][0], 100*rpr['reduced']['expl_var'][1], 100*rpr['reduced']['expl_var'][2]))"
   ]
  },
  {
   "cell_type": "markdown",
   "metadata": {},
   "source": [
    "### 2.3) Compact hstacking supervision"
   ]
  },
  {
   "cell_type": "code",
   "execution_count": 25,
   "metadata": {},
   "outputs": [],
   "source": [
    "shapes_18.compstack_dichs('parity', 'smaller_than_9')"
   ]
  },
  {
   "cell_type": "code",
   "execution_count": 26,
   "metadata": {},
   "outputs": [
    {
     "data": {
      "text/plain": [
       "{'test_loss': 0.0009965675065500869, 'test_accuracy': 0.46000000834465027}"
      ]
     },
     "execution_count": 26,
     "metadata": {},
     "output_type": "execute_result"
    }
   ],
   "source": [
    "dnn_compstack = Sequential([\n",
    "    Dense(w_1, input_shape=(w_in,)),\n",
    "    Activation('tanh'),\n",
    "    Dense(w_2),\n",
    "    Activation('tanh'),\n",
    "    Dense(2),\n",
    "    Activation('tanh')\n",
    "])\n",
    "\n",
    "compstack = Model(dnn_compstack)\n",
    "\n",
    "# Train the model, iterating on the data in batches of 32 samples\n",
    "compstack.fit(shapes_18, dich_name='parity_compstack_smaller_than_9', epochs=10, batch_size=32)\n",
    "\n",
    "compstack.evaluate(shapes_18, dich_name='parity_compstack_smaller_than_9', batch_size=128)"
   ]
  },
  {
   "cell_type": "code",
   "execution_count": 30,
   "metadata": {},
   "outputs": [
    {
     "data": {
      "application/vnd.jupyter.widget-view+json": {
       "model_id": "db4d3bbd520942af8717fd0c412a2269",
       "version_major": 2,
       "version_minor": 0
      },
      "text/plain": [
       "Canvas(toolbar=Toolbar(toolitems=[('Home', 'Reset original view', 'home', 'home'), ('Back', 'Back to previous …"
      ]
     },
     "metadata": {},
     "output_type": "display_data"
    }
   ],
   "source": [
    "pca2 = PCA(n_components=2)\n",
    "\n",
    "reduced_compstack_2d = compstack.get_repr(shapes_18, shapes_18.spl, pca2)\n",
    "fig5 = compstack.plot_reprs(shapes_18, shapes_18.spl, pca2)\n",
    "\n",
    "fig5.canvas.layout.width = '80%'\n",
    "fig5.canvas.layout.height = '5000px'"
   ]
  },
  {
   "cell_type": "code",
   "execution_count": 28,
   "metadata": {},
   "outputs": [
    {
     "name": "stdout",
     "output_type": "stream",
     "text": [
      "Layer 0 - 77.1% 2d var - 65.3% + 11.8%\n",
      "Layer 1 - 77.9% 2d var - 50.9% + 27.0%\n",
      "Layer 2 - 94.7% 2d var - 68.3% + 26.4%\n",
      "Layer 3 - 89.2% 2d var - 57.4% + 31.8%\n",
      "Layer 4 - 100.0% 2d var - 69.5% + 30.5%\n",
      "Layer 5 - 100.0% 2d var - 68.8% + 31.2%\n"
     ]
    }
   ],
   "source": [
    "for lay_id, rpr in enumerate(reduced_compstack_2d):\n",
    "    print('Layer {0:d} - {1:.1f}% 2d var - {2:.1f}% + {3:.1f}%'.format(lay_id, 100*(rpr['reduced']['expl_var'][0]+rpr['reduced']['expl_var'][1]), 100*rpr['reduced']['expl_var'][0], 100*rpr['reduced']['expl_var'][1]))"
   ]
  },
  {
   "cell_type": "code",
   "execution_count": 29,
   "metadata": {},
   "outputs": [
    {
     "ename": "ValueError",
     "evalue": "could not broadcast input array from shape (2) into shape (3)",
     "output_type": "error",
     "traceback": [
      "\u001b[0;31m---------------------------------------------------------------------------\u001b[0m",
      "\u001b[0;31mValueError\u001b[0m                                Traceback (most recent call last)",
      "\u001b[0;32m<ipython-input-29-4759e20c525c>\u001b[0m in \u001b[0;36m<module>\u001b[0;34m\u001b[0m\n\u001b[1;32m      1\u001b[0m \u001b[0mpca3\u001b[0m \u001b[0;34m=\u001b[0m \u001b[0mPCA\u001b[0m\u001b[0;34m(\u001b[0m\u001b[0mn_components\u001b[0m\u001b[0;34m=\u001b[0m\u001b[0;36m3\u001b[0m\u001b[0;34m)\u001b[0m\u001b[0;34m\u001b[0m\u001b[0;34m\u001b[0m\u001b[0m\n\u001b[1;32m      2\u001b[0m \u001b[0;34m\u001b[0m\u001b[0m\n\u001b[0;32m----> 3\u001b[0;31m \u001b[0mreduced_compstack_3d\u001b[0m \u001b[0;34m=\u001b[0m \u001b[0mcompstack\u001b[0m\u001b[0;34m.\u001b[0m\u001b[0mget_repr\u001b[0m\u001b[0;34m(\u001b[0m\u001b[0mshapes_18\u001b[0m\u001b[0;34m,\u001b[0m \u001b[0mshapes_18\u001b[0m\u001b[0;34m.\u001b[0m\u001b[0mspl\u001b[0m\u001b[0;34m,\u001b[0m \u001b[0mpca3\u001b[0m\u001b[0;34m)\u001b[0m\u001b[0;34m\u001b[0m\u001b[0;34m\u001b[0m\u001b[0m\n\u001b[0m\u001b[1;32m      4\u001b[0m \u001b[0mfig6\u001b[0m \u001b[0;34m=\u001b[0m \u001b[0mcompstack\u001b[0m\u001b[0;34m.\u001b[0m\u001b[0mplot_reprs\u001b[0m\u001b[0;34m(\u001b[0m\u001b[0mshapes_18\u001b[0m\u001b[0;34m,\u001b[0m \u001b[0mshapes_18\u001b[0m\u001b[0;34m.\u001b[0m\u001b[0mspl\u001b[0m\u001b[0;34m,\u001b[0m \u001b[0mpca3\u001b[0m\u001b[0;34m)\u001b[0m\u001b[0;34m\u001b[0m\u001b[0;34m\u001b[0m\u001b[0m\n\u001b[1;32m      5\u001b[0m \u001b[0;34m\u001b[0m\u001b[0m\n",
      "\u001b[0;32m~/Envs/GeomAbs/geom_abs/methods/models.py\u001b[0m in \u001b[0;36mget_repr\u001b[0;34m(self, ds, data, dimRed)\u001b[0m\n\u001b[1;32m    140\u001b[0m                                 \u001b[0;32melse\u001b[0m\u001b[0;34m:\u001b[0m\u001b[0;34m\u001b[0m\u001b[0;34m\u001b[0m\u001b[0m\n\u001b[1;32m    141\u001b[0m                                         \u001b[0mrprs\u001b[0m\u001b[0;34m[\u001b[0m\u001b[0mlay_id\u001b[0m\u001b[0;34m]\u001b[0m\u001b[0;34m[\u001b[0m\u001b[0;34m'reduced'\u001b[0m\u001b[0;34m]\u001b[0m\u001b[0;34m[\u001b[0m\u001b[0;34m'repr'\u001b[0m\u001b[0;34m]\u001b[0m \u001b[0;34m=\u001b[0m \u001b[0mnp\u001b[0m\u001b[0;34m.\u001b[0m\u001b[0marray\u001b[0m\u001b[0;34m(\u001b[0m\u001b[0mouts\u001b[0m\u001b[0;34m[\u001b[0m\u001b[0mlay_id\u001b[0m\u001b[0;34m]\u001b[0m\u001b[0;34m)\u001b[0m\u001b[0;34m\u001b[0m\u001b[0;34m\u001b[0m\u001b[0m\n\u001b[0;32m--> 142\u001b[0;31m                                 \u001b[0mrprs\u001b[0m\u001b[0;34m[\u001b[0m\u001b[0mlay_id\u001b[0m\u001b[0;34m]\u001b[0m\u001b[0;34m[\u001b[0m\u001b[0;34m'reduced'\u001b[0m\u001b[0;34m]\u001b[0m\u001b[0;34m[\u001b[0m\u001b[0;34m'avg_lbl_repr'\u001b[0m\u001b[0;34m]\u001b[0m\u001b[0;34m[\u001b[0m\u001b[0mlbl_id\u001b[0m\u001b[0;34m]\u001b[0m \u001b[0;34m=\u001b[0m \u001b[0mnp\u001b[0m\u001b[0;34m.\u001b[0m\u001b[0mnanmean\u001b[0m\u001b[0;34m(\u001b[0m\u001b[0mnp\u001b[0m\u001b[0;34m.\u001b[0m\u001b[0marray\u001b[0m\u001b[0;34m(\u001b[0m\u001b[0mrprs\u001b[0m\u001b[0;34m[\u001b[0m\u001b[0mlay_id\u001b[0m\u001b[0;34m]\u001b[0m\u001b[0;34m[\u001b[0m\u001b[0;34m'reduced'\u001b[0m\u001b[0;34m]\u001b[0m\u001b[0;34m[\u001b[0m\u001b[0;34m'repr'\u001b[0m\u001b[0;34m]\u001b[0m\u001b[0;34m)\u001b[0m\u001b[0;34m[\u001b[0m\u001b[0mfilt\u001b[0m\u001b[0;34m,\u001b[0m\u001b[0;34m:\u001b[0m\u001b[0;34m]\u001b[0m\u001b[0;34m,\u001b[0m \u001b[0maxis\u001b[0m\u001b[0;34m=\u001b[0m\u001b[0;36m0\u001b[0m\u001b[0;34m)\u001b[0m\u001b[0;34m\u001b[0m\u001b[0;34m\u001b[0m\u001b[0m\n\u001b[0m\u001b[1;32m    143\u001b[0m \u001b[0;34m\u001b[0m\u001b[0m\n\u001b[1;32m    144\u001b[0m                                 \u001b[0mrprs\u001b[0m\u001b[0;34m[\u001b[0m\u001b[0mlay_id\u001b[0m\u001b[0;34m]\u001b[0m\u001b[0;34m[\u001b[0m\u001b[0;34m'reduced'\u001b[0m\u001b[0;34m]\u001b[0m\u001b[0;34m[\u001b[0m\u001b[0;34m'expl_var'\u001b[0m\u001b[0;34m]\u001b[0m \u001b[0;34m=\u001b[0m \u001b[0mdimRed\u001b[0m\u001b[0;34m.\u001b[0m\u001b[0mexplained_variance_ratio_\u001b[0m\u001b[0;34m\u001b[0m\u001b[0;34m\u001b[0m\u001b[0m\n",
      "\u001b[0;31mValueError\u001b[0m: could not broadcast input array from shape (2) into shape (3)"
     ]
    }
   ],
   "source": [
    "pca3 = PCA(n_components=3)\n",
    "\n",
    "reduced_compstack_3d = compstack.get_repr(shapes_18, shapes_18.spl, pca3)\n",
    "fig6 = compstack.plot_reprs(shapes_18, shapes_18.spl, pca3)\n",
    "\n",
    "fig6.canvas.layout.width = '80%'\n",
    "fig6.canvas.layout.height = '5000px'"
   ]
  },
  {
   "cell_type": "code",
   "execution_count": null,
   "metadata": {},
   "outputs": [],
   "source": [
    "for lay_id, rpr in enumerate(reduced_compstack_3d):\n",
    "    print('Layer {0:d} - {1:.1f}% 3d var - {2:.1f}% + {3:.1f}% + {4:.1f}%'.format(lay_id, 100*(rpr['reduced']['expl_var'][0]+rpr['reduced']['expl_var'][1]+rpr['reduced']['expl_var'][2]), 100*rpr['reduced']['expl_var'][0], 100*rpr['reduced']['expl_var'][1], 100*rpr['reduced']['expl_var'][2]))"
   ]
  },
  {
   "cell_type": "markdown",
   "metadata": {},
   "source": [
    "## 3) Testing representation for categorical features\n",
    "\n",
    "### 3.1) hstack"
   ]
  },
  {
   "cell_type": "code",
   "execution_count": 31,
   "metadata": {},
   "outputs": [],
   "source": [
    "# Currently dichotomies will only be binary\n",
    "shapes_range = [range(0,6), range(6,12), range(12,18)]"
   ]
  },
  {
   "cell_type": "code",
   "execution_count": 32,
   "metadata": {},
   "outputs": [],
   "source": [
    "shapes_18.build_dichLabels(shapes_range, 'range_bins')\n",
    "\n",
    "shapes_18.hstack_dichs('parity', 'range_bins')\n",
    "shapes_18.compstack_dichs('parity', 'range_bins')\n",
    "\n",
    "shapes_18.build_catLabels(shapes_range, 'cat_range_bins')\n",
    "shapes_18.compstack_dichs('parity', 'cat_range_bins')"
   ]
  },
  {
   "cell_type": "code",
   "execution_count": 33,
   "metadata": {},
   "outputs": [
    {
     "data": {
      "text/plain": [
       "{'test_loss': 0.0010979679796016878, 'test_accuracy': 0.4955555498600006}"
      ]
     },
     "execution_count": 33,
     "metadata": {},
     "output_type": "execute_result"
    }
   ],
   "source": [
    "dnn_ctg_hstack = Sequential([\n",
    "    Dense(w_1, input_shape=(w_in,)),\n",
    "    Activation('tanh'),\n",
    "    Dense(w_2),\n",
    "    Activation('tanh'),\n",
    "    Dense(5),\n",
    "    Activation('tanh')\n",
    "])\n",
    "\n",
    "ctg_hstack = Model(dnn_ctg_hstack)\n",
    "\n",
    "# Train the model, iterating on the data in batches of 32 samples\n",
    "ctg_hstack.fit(shapes_18, dich_name='parity_hstack_range_bins', epochs=20, batch_size=32)\n",
    "\n",
    "ctg_hstack.evaluate(shapes_18, dich_name='parity_hstack_range_bins', batch_size=128)"
   ]
  },
  {
   "cell_type": "code",
   "execution_count": 34,
   "metadata": {},
   "outputs": [
    {
     "data": {
      "application/vnd.jupyter.widget-view+json": {
       "model_id": "757c63e8e58c40b6aee0030529d6cded",
       "version_major": 2,
       "version_minor": 0
      },
      "text/plain": [
       "Canvas(toolbar=Toolbar(toolitems=[('Home', 'Reset original view', 'home', 'home'), ('Back', 'Back to previous …"
      ]
     },
     "metadata": {},
     "output_type": "display_data"
    }
   ],
   "source": [
    "pca2 = PCA(n_components=2)\n",
    "\n",
    "reduced_ctg_hstack_2d = ctg_hstack.get_repr(shapes_18, shapes_18.spl, pca2)\n",
    "fig7 = ctg_hstack.plot_reprs(shapes_18, shapes_18.spl, pca2)\n",
    "\n",
    "fig7.canvas.layout.width = '80%'\n",
    "fig7.canvas.layout.height = '5000px'"
   ]
  },
  {
   "cell_type": "code",
   "execution_count": 35,
   "metadata": {},
   "outputs": [
    {
     "name": "stdout",
     "output_type": "stream",
     "text": [
      "Layer 0 - 67.1% 2d var - 50.1% + 17.0%\n",
      "Layer 1 - 52.2% 2d var - 30.6% + 21.6%\n",
      "Layer 2 - 68.6% 2d var - 40.4% + 28.1%\n",
      "Layer 3 - 66.0% 2d var - 40.9% + 25.1%\n",
      "Layer 4 - 78.2% 2d var - 50.6% + 27.7%\n",
      "Layer 5 - 78.3% 2d var - 49.2% + 29.1%\n"
     ]
    }
   ],
   "source": [
    "for lay_id, rpr in enumerate(reduced_ctg_hstack_2d):\n",
    "    print('Layer {0:d} - {1:.1f}% 2d var - {2:.1f}% + {3:.1f}%'.format(lay_id, 100*(rpr['reduced']['expl_var'][0]+rpr['reduced']['expl_var'][1]), 100*rpr['reduced']['expl_var'][0], 100*rpr['reduced']['expl_var'][1]))"
   ]
  },
  {
   "cell_type": "code",
   "execution_count": 36,
   "metadata": {},
   "outputs": [
    {
     "data": {
      "application/vnd.jupyter.widget-view+json": {
       "model_id": "45e8b2e92ff04560b65e3e601c96cb8b",
       "version_major": 2,
       "version_minor": 0
      },
      "text/plain": [
       "Canvas(toolbar=Toolbar(toolitems=[('Home', 'Reset original view', 'home', 'home'), ('Back', 'Back to previous …"
      ]
     },
     "metadata": {},
     "output_type": "display_data"
    }
   ],
   "source": [
    "pca3 = PCA(n_components=3)\n",
    "\n",
    "reduced_ctg_hstack_3d = ctg_hstack.get_repr(shapes_18, shapes_18.spl, pca3)\n",
    "fig8 = ctg_hstack.plot_reprs(shapes_18, shapes_18.spl, pca3)\n",
    "\n",
    "fig8.canvas.layout.width = '80%'\n",
    "fig8.canvas.layout.height = '5000px'"
   ]
  },
  {
   "cell_type": "code",
   "execution_count": 37,
   "metadata": {},
   "outputs": [
    {
     "name": "stdout",
     "output_type": "stream",
     "text": [
      "Layer 0 - 80.5% 3d var - 50.1% + 17.0% + 13.5%\n",
      "Layer 1 - 71.0% 3d var - 30.6% + 21.6% + 18.8%\n",
      "Layer 2 - 89.2% 3d var - 40.4% + 28.1% + 20.7%\n",
      "Layer 3 - 88.3% 3d var - 40.9% + 25.1% + 22.4%\n",
      "Layer 4 - 99.8% 3d var - 50.6% + 27.7% + 21.6%\n",
      "Layer 5 - 100.0% 3d var - 49.2% + 29.1% + 21.7%\n"
     ]
    }
   ],
   "source": [
    "for lay_id, rpr in enumerate(reduced_ctg_hstack_3d):\n",
    "    print('Layer {0:d} - {1:.1f}% 3d var - {2:.1f}% + {3:.1f}% + {4:.1f}%'.format(lay_id, 100*(rpr['reduced']['expl_var'][0]+rpr['reduced']['expl_var'][1]+rpr['reduced']['expl_var'][2]), 100*rpr['reduced']['expl_var'][0], 100*rpr['reduced']['expl_var'][1], 100*rpr['reduced']['expl_var'][2]))"
   ]
  },
  {
   "cell_type": "markdown",
   "metadata": {},
   "source": [
    "### 3.2) Product"
   ]
  },
  {
   "cell_type": "code",
   "execution_count": 38,
   "metadata": {},
   "outputs": [],
   "source": [
    "shapes_ctg_prod = [set(s1).intersection(set(s2)) for s2 in shapes_range for s1 in shapes_parity]\n",
    "shapes_18.build_dichLabels(shapes_ctg_prod, 'parity_prod_range_bins')"
   ]
  },
  {
   "cell_type": "code",
   "execution_count": 39,
   "metadata": {},
   "outputs": [],
   "source": [
    "w_in =shapes_18.tot_dim\n",
    "w_1 = 100\n",
    "w_2 = 100\n",
    "max_epochs = 400"
   ]
  },
  {
   "cell_type": "code",
   "execution_count": 40,
   "metadata": {},
   "outputs": [
    {
     "data": {
      "text/plain": [
       "{'test_loss': 0.001529807080514729, 'test_accuracy': 1.0}"
      ]
     },
     "execution_count": 40,
     "metadata": {},
     "output_type": "execute_result"
    }
   ],
   "source": [
    "dnn_ctg_prod = Sequential([\n",
    "    Dense(w_1, input_shape=(w_in,)),\n",
    "    Activation('tanh'),\n",
    "    Dense(w_2),\n",
    "    Activation('tanh'),\n",
    "    Dense(6),\n",
    "    Activation('tanh')\n",
    "])\n",
    "\n",
    "ctg_prod = Model(dnn_ctg_prod)\n",
    "\n",
    "# Train the model, iterating on the data in batches of 32 samples\n",
    "ctg_prod.fit(shapes_18, dich_name='parity_prod_range_bins', epochs=10, batch_size=32)\n",
    "\n",
    "ctg_prod.evaluate(shapes_18, dich_name='parity_prod_range_bins', batch_size=128)"
   ]
  },
  {
   "cell_type": "code",
   "execution_count": 41,
   "metadata": {},
   "outputs": [
    {
     "data": {
      "application/vnd.jupyter.widget-view+json": {
       "model_id": "ba7fa8f918d44913b4dbf76d54b02f67",
       "version_major": 2,
       "version_minor": 0
      },
      "text/plain": [
       "Canvas(toolbar=Toolbar(toolitems=[('Home', 'Reset original view', 'home', 'home'), ('Back', 'Back to previous …"
      ]
     },
     "metadata": {},
     "output_type": "display_data"
    }
   ],
   "source": [
    "pca2 = PCA(n_components=2)\n",
    "\n",
    "reduced_ctg_prod_2d = ctg_prod.get_repr(shapes_18, shapes_18.spl, pca2)\n",
    "fig9 = ctg_prod.plot_reprs(shapes_18, shapes_18.spl, pca2)\n",
    "\n",
    "fig9.canvas.layout.width = '80%'\n",
    "fig9.canvas.layout.height = '5000px'"
   ]
  },
  {
   "cell_type": "code",
   "execution_count": 42,
   "metadata": {},
   "outputs": [
    {
     "name": "stdout",
     "output_type": "stream",
     "text": [
      "Layer 0 - 65.2% 2d var - 47.0% + 18.2%\n",
      "Layer 1 - 50.0% 2d var - 26.8% + 23.3%\n",
      "Layer 2 - 57.3% 2d var - 33.0% + 24.3%\n",
      "Layer 3 - 50.0% 2d var - 27.9% + 22.1%\n",
      "Layer 4 - 55.8% 2d var - 31.5% + 24.2%\n",
      "Layer 5 - 56.0% 2d var - 30.2% + 25.8%\n"
     ]
    }
   ],
   "source": [
    "for lay_id, rpr in enumerate(reduced_ctg_prod_2d):\n",
    "    print('Layer {0:d} - {1:.1f}% 2d var - {2:.1f}% + {3:.1f}%'.format(lay_id, 100*(rpr['reduced']['expl_var'][0]+rpr['reduced']['expl_var'][1]), 100*rpr['reduced']['expl_var'][0], 100*rpr['reduced']['expl_var'][1]))"
   ]
  },
  {
   "cell_type": "code",
   "execution_count": 43,
   "metadata": {},
   "outputs": [
    {
     "data": {
      "application/vnd.jupyter.widget-view+json": {
       "model_id": "8e11f88f277a448c9c7fd90efe124455",
       "version_major": 2,
       "version_minor": 0
      },
      "text/plain": [
       "Canvas(toolbar=Toolbar(toolitems=[('Home', 'Reset original view', 'home', 'home'), ('Back', 'Back to previous …"
      ]
     },
     "metadata": {},
     "output_type": "display_data"
    }
   ],
   "source": [
    "pca3 = PCA(n_components=3)\n",
    "\n",
    "reduced_ctg_prod_3d = ctg_prod.get_repr(shapes_18, shapes_18.spl, pca3)\n",
    "fig8 = ctg_prod.plot_reprs(shapes_18, shapes_18.spl, pca3)\n",
    "\n",
    "fig8.canvas.layout.width = '80%'\n",
    "fig8.canvas.layout.height = '5000px'"
   ]
  },
  {
   "cell_type": "code",
   "execution_count": 44,
   "metadata": {},
   "outputs": [
    {
     "name": "stdout",
     "output_type": "stream",
     "text": [
      "Layer 0 - 77.2% 3d var - 47.0% + 18.2% + 12.0%\n",
      "Layer 1 - 68.4% 3d var - 26.8% + 23.3% + 18.4%\n",
      "Layer 2 - 76.7% 3d var - 33.0% + 24.3% + 19.4%\n",
      "Layer 3 - 70.4% 3d var - 27.9% + 22.1% + 20.4%\n",
      "Layer 4 - 74.2% 3d var - 31.5% + 24.2% + 18.4%\n",
      "Layer 5 - 74.9% 3d var - 30.2% + 25.8% + 18.9%\n"
     ]
    }
   ],
   "source": [
    "for lay_id, rpr in enumerate(reduced_ctg_prod_3d):\n",
    "    print('Layer {0:d} - {1:.1f}% 3d var - {2:.1f}% + {3:.1f}% + {4:.1f}%'.format(lay_id, 100*(rpr['reduced']['expl_var'][0]+rpr['reduced']['expl_var'][1]+rpr['reduced']['expl_var'][2]), 100*rpr['reduced']['expl_var'][0], 100*rpr['reduced']['expl_var'][1], 100*rpr['reduced']['expl_var'][2]))"
   ]
  },
  {
   "cell_type": "markdown",
   "metadata": {},
   "source": [
    "### 3.3) compstack"
   ]
  },
  {
   "cell_type": "code",
   "execution_count": 45,
   "metadata": {},
   "outputs": [],
   "source": [
    "w_in =shapes_18.tot_dim\n",
    "w_1 = 100\n",
    "w_2 = 100\n",
    "max_epochs = 400"
   ]
  },
  {
   "cell_type": "code",
   "execution_count": 50,
   "metadata": {},
   "outputs": [
    {
     "data": {
      "text/plain": [
       "{'test_loss': 0.19431929455863106, 'test_accuracy': 0.8533333539962769}"
      ]
     },
     "execution_count": 50,
     "metadata": {},
     "output_type": "execute_result"
    }
   ],
   "source": [
    "dnn_ctg_compstack = Sequential([\n",
    "    Dense(w_1, input_shape=(w_in,)),\n",
    "    Activation('tanh'),\n",
    "    Dense(w_2),\n",
    "    Activation('tanh'),\n",
    "    Dense(2)\n",
    "])\n",
    "\n",
    "ctg_compstack = Model(dnn_ctg_compstack)\n",
    "\n",
    "# Train the model, iterating on the data in batches of 32 samples\n",
    "ctg_compstack.fit(shapes_18, dich_name='parity_compstack_cat_range_bins', epochs=10, batch_size=32)\n",
    "\n",
    "ctg_compstack.evaluate(shapes_18, dich_name='parity_compstack_cat_range_bins', batch_size=128)"
   ]
  },
  {
   "cell_type": "code",
   "execution_count": 53,
   "metadata": {},
   "outputs": [
    {
     "data": {
      "application/vnd.jupyter.widget-view+json": {
       "model_id": "d5075849743840a1a31b421067dcbc8b",
       "version_major": 2,
       "version_minor": 0
      },
      "text/plain": [
       "Canvas(toolbar=Toolbar(toolitems=[('Home', 'Reset original view', 'home', 'home'), ('Back', 'Back to previous …"
      ]
     },
     "metadata": {},
     "output_type": "display_data"
    }
   ],
   "source": [
    "pca2 = PCA(n_components=2)\n",
    "\n",
    "reduced_ctg_compstack_2d = ctg_compstack.get_repr(shapes_18, shapes_18.spl, pca2)\n",
    "fig11 = ctg_compstack.plot_reprs(shapes_18, shapes_18.spl, pca2)\n",
    "\n",
    "fig11.canvas.layout.width = '80%'\n",
    "fig11.canvas.layout.height = '5000px'"
   ]
  },
  {
   "cell_type": "code",
   "execution_count": 54,
   "metadata": {},
   "outputs": [
    {
     "name": "stdout",
     "output_type": "stream",
     "text": [
      "Layer 0 - 65.2% 2d var - 48.7% + 16.4%\n",
      "Layer 1 - 54.3% 2d var - 31.2% + 23.1%\n",
      "Layer 2 - 75.3% 2d var - 53.6% + 21.6%\n",
      "Layer 3 - 77.2% 2d var - 52.6% + 24.6%\n",
      "Layer 4 - 100.0% 2d var - 77.1% + 22.9%\n"
     ]
    }
   ],
   "source": [
    "for lay_id, rpr in enumerate(reduced_ctg_compstack_2d):\n",
    "    print('Layer {0:d} - {1:.1f}% 2d var - {2:.1f}% + {3:.1f}%'.format(lay_id, 100*(rpr['reduced']['expl_var'][0]+rpr['reduced']['expl_var'][1]), 100*rpr['reduced']['expl_var'][0], 100*rpr['reduced']['expl_var'][1]))"
   ]
  },
  {
   "cell_type": "code",
   "execution_count": 55,
   "metadata": {},
   "outputs": [
    {
     "ename": "ValueError",
     "evalue": "could not broadcast input array from shape (2) into shape (3)",
     "output_type": "error",
     "traceback": [
      "\u001b[0;31m---------------------------------------------------------------------------\u001b[0m",
      "\u001b[0;31mValueError\u001b[0m                                Traceback (most recent call last)",
      "\u001b[0;32m<ipython-input-55-b5cbdf3789a0>\u001b[0m in \u001b[0;36m<module>\u001b[0;34m\u001b[0m\n\u001b[1;32m      1\u001b[0m \u001b[0mpca3\u001b[0m \u001b[0;34m=\u001b[0m \u001b[0mPCA\u001b[0m\u001b[0;34m(\u001b[0m\u001b[0mn_components\u001b[0m\u001b[0;34m=\u001b[0m\u001b[0;36m3\u001b[0m\u001b[0;34m)\u001b[0m\u001b[0;34m\u001b[0m\u001b[0;34m\u001b[0m\u001b[0m\n\u001b[1;32m      2\u001b[0m \u001b[0;34m\u001b[0m\u001b[0m\n\u001b[0;32m----> 3\u001b[0;31m \u001b[0mreduced_ctg_compstack_3d\u001b[0m \u001b[0;34m=\u001b[0m \u001b[0mctg_compstack\u001b[0m\u001b[0;34m.\u001b[0m\u001b[0mget_repr\u001b[0m\u001b[0;34m(\u001b[0m\u001b[0mshapes_18\u001b[0m\u001b[0;34m,\u001b[0m \u001b[0mshapes_18\u001b[0m\u001b[0;34m.\u001b[0m\u001b[0mspl\u001b[0m\u001b[0;34m,\u001b[0m \u001b[0mpca3\u001b[0m\u001b[0;34m)\u001b[0m\u001b[0;34m\u001b[0m\u001b[0;34m\u001b[0m\u001b[0m\n\u001b[0m\u001b[1;32m      4\u001b[0m \u001b[0mfig12\u001b[0m \u001b[0;34m=\u001b[0m \u001b[0mctg_compstack\u001b[0m\u001b[0;34m.\u001b[0m\u001b[0mplot_reprs\u001b[0m\u001b[0;34m(\u001b[0m\u001b[0mshapes_18\u001b[0m\u001b[0;34m,\u001b[0m \u001b[0mshapes_18\u001b[0m\u001b[0;34m.\u001b[0m\u001b[0mspl\u001b[0m\u001b[0;34m,\u001b[0m \u001b[0mpca3\u001b[0m\u001b[0;34m)\u001b[0m\u001b[0;34m\u001b[0m\u001b[0;34m\u001b[0m\u001b[0m\n\u001b[1;32m      5\u001b[0m \u001b[0;34m\u001b[0m\u001b[0m\n",
      "\u001b[0;32m~/Envs/GeomAbs/geom_abs/methods/models.py\u001b[0m in \u001b[0;36mget_repr\u001b[0;34m(self, ds, data, dimRed)\u001b[0m\n\u001b[1;32m    140\u001b[0m                                 \u001b[0;32melse\u001b[0m\u001b[0;34m:\u001b[0m\u001b[0;34m\u001b[0m\u001b[0;34m\u001b[0m\u001b[0m\n\u001b[1;32m    141\u001b[0m                                         \u001b[0mrprs\u001b[0m\u001b[0;34m[\u001b[0m\u001b[0mlay_id\u001b[0m\u001b[0;34m]\u001b[0m\u001b[0;34m[\u001b[0m\u001b[0;34m'reduced'\u001b[0m\u001b[0;34m]\u001b[0m\u001b[0;34m[\u001b[0m\u001b[0;34m'repr'\u001b[0m\u001b[0;34m]\u001b[0m \u001b[0;34m=\u001b[0m \u001b[0mnp\u001b[0m\u001b[0;34m.\u001b[0m\u001b[0marray\u001b[0m\u001b[0;34m(\u001b[0m\u001b[0mouts\u001b[0m\u001b[0;34m[\u001b[0m\u001b[0mlay_id\u001b[0m\u001b[0;34m]\u001b[0m\u001b[0;34m)\u001b[0m\u001b[0;34m\u001b[0m\u001b[0;34m\u001b[0m\u001b[0m\n\u001b[0;32m--> 142\u001b[0;31m                                 \u001b[0mrprs\u001b[0m\u001b[0;34m[\u001b[0m\u001b[0mlay_id\u001b[0m\u001b[0;34m]\u001b[0m\u001b[0;34m[\u001b[0m\u001b[0;34m'reduced'\u001b[0m\u001b[0;34m]\u001b[0m\u001b[0;34m[\u001b[0m\u001b[0;34m'avg_lbl_repr'\u001b[0m\u001b[0;34m]\u001b[0m\u001b[0;34m[\u001b[0m\u001b[0mlbl_id\u001b[0m\u001b[0;34m]\u001b[0m \u001b[0;34m=\u001b[0m \u001b[0mnp\u001b[0m\u001b[0;34m.\u001b[0m\u001b[0mnanmean\u001b[0m\u001b[0;34m(\u001b[0m\u001b[0mnp\u001b[0m\u001b[0;34m.\u001b[0m\u001b[0marray\u001b[0m\u001b[0;34m(\u001b[0m\u001b[0mrprs\u001b[0m\u001b[0;34m[\u001b[0m\u001b[0mlay_id\u001b[0m\u001b[0;34m]\u001b[0m\u001b[0;34m[\u001b[0m\u001b[0;34m'reduced'\u001b[0m\u001b[0;34m]\u001b[0m\u001b[0;34m[\u001b[0m\u001b[0;34m'repr'\u001b[0m\u001b[0;34m]\u001b[0m\u001b[0;34m)\u001b[0m\u001b[0;34m[\u001b[0m\u001b[0mfilt\u001b[0m\u001b[0;34m,\u001b[0m\u001b[0;34m:\u001b[0m\u001b[0;34m]\u001b[0m\u001b[0;34m,\u001b[0m \u001b[0maxis\u001b[0m\u001b[0;34m=\u001b[0m\u001b[0;36m0\u001b[0m\u001b[0;34m)\u001b[0m\u001b[0;34m\u001b[0m\u001b[0;34m\u001b[0m\u001b[0m\n\u001b[0m\u001b[1;32m    143\u001b[0m \u001b[0;34m\u001b[0m\u001b[0m\n\u001b[1;32m    144\u001b[0m                                 \u001b[0mrprs\u001b[0m\u001b[0;34m[\u001b[0m\u001b[0mlay_id\u001b[0m\u001b[0;34m]\u001b[0m\u001b[0;34m[\u001b[0m\u001b[0;34m'reduced'\u001b[0m\u001b[0;34m]\u001b[0m\u001b[0;34m[\u001b[0m\u001b[0;34m'expl_var'\u001b[0m\u001b[0;34m]\u001b[0m \u001b[0;34m=\u001b[0m \u001b[0mdimRed\u001b[0m\u001b[0;34m.\u001b[0m\u001b[0mexplained_variance_ratio_\u001b[0m\u001b[0;34m\u001b[0m\u001b[0;34m\u001b[0m\u001b[0m\n",
      "\u001b[0;31mValueError\u001b[0m: could not broadcast input array from shape (2) into shape (3)"
     ]
    }
   ],
   "source": [
    "pca3 = PCA(n_components=3)\n",
    "\n",
    "reduced_ctg_compstack_3d = ctg_compstack.get_repr(shapes_18, shapes_18.spl, pca3)\n",
    "fig12 = ctg_compstack.plot_reprs(shapes_18, shapes_18.spl, pca3)\n",
    "\n",
    "fig12.canvas.layout.width = '80%'\n",
    "fig12.canvas.layout.height = '5000px'"
   ]
  },
  {
   "cell_type": "code",
   "execution_count": 56,
   "metadata": {},
   "outputs": [
    {
     "ename": "NameError",
     "evalue": "name 'reduced_ctg_compstack_3d' is not defined",
     "output_type": "error",
     "traceback": [
      "\u001b[0;31m---------------------------------------------------------------------------\u001b[0m",
      "\u001b[0;31mNameError\u001b[0m                                 Traceback (most recent call last)",
      "\u001b[0;32m<ipython-input-56-6f60ac817e72>\u001b[0m in \u001b[0;36m<module>\u001b[0;34m\u001b[0m\n\u001b[0;32m----> 1\u001b[0;31m \u001b[0;32mfor\u001b[0m \u001b[0mlay_id\u001b[0m\u001b[0;34m,\u001b[0m \u001b[0mrpr\u001b[0m \u001b[0;32min\u001b[0m \u001b[0menumerate\u001b[0m\u001b[0;34m(\u001b[0m\u001b[0mreduced_ctg_compstack_3d\u001b[0m\u001b[0;34m)\u001b[0m\u001b[0;34m:\u001b[0m\u001b[0;34m\u001b[0m\u001b[0;34m\u001b[0m\u001b[0m\n\u001b[0m\u001b[1;32m      2\u001b[0m     \u001b[0mprint\u001b[0m\u001b[0;34m(\u001b[0m\u001b[0;34m'Layer {0:d} - {1:.1f}% 3d var - {2:.1f}% + {3:.1f}% + {4:.1f}%'\u001b[0m\u001b[0;34m.\u001b[0m\u001b[0mformat\u001b[0m\u001b[0;34m(\u001b[0m\u001b[0mlay_id\u001b[0m\u001b[0;34m,\u001b[0m \u001b[0;36m100\u001b[0m\u001b[0;34m*\u001b[0m\u001b[0;34m(\u001b[0m\u001b[0mrpr\u001b[0m\u001b[0;34m[\u001b[0m\u001b[0;34m'reduced'\u001b[0m\u001b[0;34m]\u001b[0m\u001b[0;34m[\u001b[0m\u001b[0;34m'expl_var'\u001b[0m\u001b[0;34m]\u001b[0m\u001b[0;34m[\u001b[0m\u001b[0;36m0\u001b[0m\u001b[0;34m]\u001b[0m\u001b[0;34m+\u001b[0m\u001b[0mrpr\u001b[0m\u001b[0;34m[\u001b[0m\u001b[0;34m'reduced'\u001b[0m\u001b[0;34m]\u001b[0m\u001b[0;34m[\u001b[0m\u001b[0;34m'expl_var'\u001b[0m\u001b[0;34m]\u001b[0m\u001b[0;34m[\u001b[0m\u001b[0;36m1\u001b[0m\u001b[0;34m]\u001b[0m\u001b[0;34m+\u001b[0m\u001b[0mrpr\u001b[0m\u001b[0;34m[\u001b[0m\u001b[0;34m'reduced'\u001b[0m\u001b[0;34m]\u001b[0m\u001b[0;34m[\u001b[0m\u001b[0;34m'expl_var'\u001b[0m\u001b[0;34m]\u001b[0m\u001b[0;34m[\u001b[0m\u001b[0;36m2\u001b[0m\u001b[0;34m]\u001b[0m\u001b[0;34m)\u001b[0m\u001b[0;34m,\u001b[0m \u001b[0;36m100\u001b[0m\u001b[0;34m*\u001b[0m\u001b[0mrpr\u001b[0m\u001b[0;34m[\u001b[0m\u001b[0;34m'reduced'\u001b[0m\u001b[0;34m]\u001b[0m\u001b[0;34m[\u001b[0m\u001b[0;34m'expl_var'\u001b[0m\u001b[0;34m]\u001b[0m\u001b[0;34m[\u001b[0m\u001b[0;36m0\u001b[0m\u001b[0;34m]\u001b[0m\u001b[0;34m,\u001b[0m \u001b[0;36m100\u001b[0m\u001b[0;34m*\u001b[0m\u001b[0mrpr\u001b[0m\u001b[0;34m[\u001b[0m\u001b[0;34m'reduced'\u001b[0m\u001b[0;34m]\u001b[0m\u001b[0;34m[\u001b[0m\u001b[0;34m'expl_var'\u001b[0m\u001b[0;34m]\u001b[0m\u001b[0;34m[\u001b[0m\u001b[0;36m1\u001b[0m\u001b[0;34m]\u001b[0m\u001b[0;34m,\u001b[0m \u001b[0;36m100\u001b[0m\u001b[0;34m*\u001b[0m\u001b[0mrpr\u001b[0m\u001b[0;34m[\u001b[0m\u001b[0;34m'reduced'\u001b[0m\u001b[0;34m]\u001b[0m\u001b[0;34m[\u001b[0m\u001b[0;34m'expl_var'\u001b[0m\u001b[0;34m]\u001b[0m\u001b[0;34m[\u001b[0m\u001b[0;36m2\u001b[0m\u001b[0;34m]\u001b[0m\u001b[0;34m)\u001b[0m\u001b[0;34m)\u001b[0m\u001b[0;34m\u001b[0m\u001b[0;34m\u001b[0m\u001b[0m\n",
      "\u001b[0;31mNameError\u001b[0m: name 'reduced_ctg_compstack_3d' is not defined"
     ]
    }
   ],
   "source": [
    "for lay_id, rpr in enumerate(reduced_ctg_compstack_3d):\n",
    "    print('Layer {0:d} - {1:.1f}% 3d var - {2:.1f}% + {3:.1f}% + {4:.1f}%'.format(lay_id, 100*(rpr['reduced']['expl_var'][0]+rpr['reduced']['expl_var'][1]+rpr['reduced']['expl_var'][2]), 100*rpr['reduced']['expl_var'][0], 100*rpr['reduced']['expl_var'][1], 100*rpr['reduced']['expl_var'][2]))"
   ]
  },
  {
   "cell_type": "code",
   "execution_count": null,
   "metadata": {},
   "outputs": [],
   "source": []
  }
 ],
 "metadata": {
  "kernelspec": {
   "display_name": "Python 3",
   "language": "python",
   "name": "python3"
  },
  "language_info": {
   "codemirror_mode": {
    "name": "ipython",
    "version": 3
   },
   "file_extension": ".py",
   "mimetype": "text/x-python",
   "name": "python",
   "nbconvert_exporter": "python",
   "pygments_lexer": "ipython3",
   "version": "3.7.6"
  }
 },
 "nbformat": 4,
 "nbformat_minor": 4
}
