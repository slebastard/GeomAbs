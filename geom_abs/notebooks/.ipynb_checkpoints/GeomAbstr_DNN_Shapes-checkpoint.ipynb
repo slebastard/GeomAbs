{
 "cells": [
  {
   "cell_type": "code",
   "execution_count": 1,
   "metadata": {},
   "outputs": [
    {
     "name": "stderr",
     "output_type": "stream",
     "text": [
      "/home/proprietaire/Envs/GeomAbs/lib/python3.7/site-packages/pandas/compat/__init__.py:85: UserWarning: Could not import the lzma module. Your installed Python is incomplete. Attempting to use lzma compression will result in a RuntimeError.\n",
      "  warnings.warn(msg)\n",
      "/home/proprietaire/Envs/GeomAbs/lib/python3.7/site-packages/pandas/compat/__init__.py:85: UserWarning: Could not import the lzma module. Your installed Python is incomplete. Attempting to use lzma compression will result in a RuntimeError.\n",
      "  warnings.warn(msg)\n",
      "Using TensorFlow backend.\n"
     ]
    }
   ],
   "source": [
    "import pdb\n",
    "from tqdm import tqdm\n",
    "\n",
    "import numpy as np\n",
    "import pandas as pd\n",
    "\n",
    "from numpy.random import shuffle\n",
    "\n",
    "from matplotlib import pyplot as plt\n",
    "%matplotlib widget\n",
    "\n",
    "from sklearn.decomposition import PCA\n",
    "\n",
    "from keras.models import Sequential\n",
    "from keras.layers import Dense, Activation"
   ]
  },
  {
   "cell_type": "code",
   "execution_count": 2,
   "metadata": {},
   "outputs": [],
   "source": [
    "import os, sys\n",
    "lib_path = os.path.abspath('../methods')\n",
    "sys.path.insert(0, lib_path)\n",
    "\n",
    "from models import Model\n",
    "from data_tools import ImageDataset\n",
    "import data_tools as dt"
   ]
  },
  {
   "cell_type": "code",
   "execution_count": 3,
   "metadata": {},
   "outputs": [
    {
     "ename": "ModuleNotFoundError",
     "evalue": "No module named 'PyQt5'",
     "output_type": "error",
     "traceback": [
      "\u001b[0;31m---------------------------------------------------------------------------\u001b[0m",
      "\u001b[0;31mModuleNotFoundError\u001b[0m                       Traceback (most recent call last)",
      "\u001b[0;32m<ipython-input-3-82dea17fb5de>\u001b[0m in \u001b[0;36m<module>\u001b[0;34m\u001b[0m\n\u001b[1;32m      1\u001b[0m \u001b[0;32mimport\u001b[0m \u001b[0msys\u001b[0m\u001b[0;34m\u001b[0m\u001b[0;34m\u001b[0m\u001b[0m\n\u001b[0;32m----> 2\u001b[0;31m \u001b[0;32mfrom\u001b[0m \u001b[0mPyQt5\u001b[0m\u001b[0;34m.\u001b[0m\u001b[0mQtWidgets\u001b[0m \u001b[0;32mimport\u001b[0m \u001b[0mQApplication\u001b[0m\u001b[0;34m\u001b[0m\u001b[0;34m\u001b[0m\u001b[0m\n\u001b[0m\u001b[1;32m      3\u001b[0m \u001b[0mapp\u001b[0m \u001b[0;34m=\u001b[0m \u001b[0mQApplication\u001b[0m\u001b[0;34m(\u001b[0m\u001b[0msys\u001b[0m\u001b[0;34m.\u001b[0m\u001b[0margv\u001b[0m\u001b[0;34m)\u001b[0m\u001b[0;34m\u001b[0m\u001b[0;34m\u001b[0m\u001b[0m\n\u001b[1;32m      4\u001b[0m \u001b[0mscreen\u001b[0m \u001b[0;34m=\u001b[0m \u001b[0mapp\u001b[0m\u001b[0;34m.\u001b[0m\u001b[0mscreens\u001b[0m\u001b[0;34m(\u001b[0m\u001b[0;34m)\u001b[0m\u001b[0;34m[\u001b[0m\u001b[0;36m0\u001b[0m\u001b[0;34m]\u001b[0m\u001b[0;34m\u001b[0m\u001b[0;34m\u001b[0m\u001b[0m\n\u001b[1;32m      5\u001b[0m \u001b[0mdpi\u001b[0m \u001b[0;34m=\u001b[0m \u001b[0mscreen\u001b[0m\u001b[0;34m.\u001b[0m\u001b[0mphysicalDotsPerInch\u001b[0m\u001b[0;34m(\u001b[0m\u001b[0;34m)\u001b[0m\u001b[0;34m\u001b[0m\u001b[0;34m\u001b[0m\u001b[0m\n",
      "\u001b[0;31mModuleNotFoundError\u001b[0m: No module named 'PyQt5'"
     ]
    }
   ],
   "source": [
    "import sys\n",
    "from PyQt5.QtWidgets import QApplication\n",
    "app = QApplication(sys.argv)\n",
    "screen = app.screens()[0]\n",
    "dpi = screen.physicalDotsPerInch()\n",
    "app.quit()"
   ]
  },
  {
   "cell_type": "code",
   "execution_count": null,
   "metadata": {},
   "outputs": [],
   "source": [
    "n_train = 1350\n",
    "n_test = 450\n",
    "\n",
    "(x_train, y_train), (x_test, y_test) = dt.generate_nclasses_dataset(\n",
    "    nb_samples=n_train+n_test,\n",
    "    nb_classes=18,\n",
    "    width_in_pixels=56,\n",
    "    noise=30,\n",
    "    free_location=True,\n",
    "    verbose=False,\n",
    "    nb_test_samples=n_test)"
   ]
  },
  {
   "cell_type": "code",
   "execution_count": null,
   "metadata": {},
   "outputs": [],
   "source": [
    "shapes_18 = ImageDataset(x_train, y_train, x_test, y_test)"
   ]
  },
  {
   "cell_type": "code",
   "execution_count": null,
   "metadata": {},
   "outputs": [],
   "source": [
    "w_in = shapes_18.tot_dim\n",
    "w_1 = 100\n",
    "w_2 = 100\n",
    "max_epochs = 400"
   ]
  },
  {
   "cell_type": "code",
   "execution_count": null,
   "metadata": {},
   "outputs": [],
   "source": [
    "# Currently dichotomies will only be binary\n",
    "shapes_parity = [list(map(lambda x: 2*x, range(9))), list(map(lambda x: 2*x + 1, range(9)))]\n",
    "shapes_smallness = [range(0,9), range(9,18)]"
   ]
  },
  {
   "cell_type": "code",
   "execution_count": null,
   "metadata": {},
   "outputs": [],
   "source": [
    "shapes_18.build_dichLabels(shapes_smallness, 'smaller_than_9')\n",
    "shapes_18.build_dichLabels(shapes_parity, 'parity')\n",
    "\n",
    "shapes_18.hstack_dichs('parity', 'smaller_than_9')"
   ]
  },
  {
   "cell_type": "code",
   "execution_count": null,
   "metadata": {},
   "outputs": [],
   "source": [
    "spl_size = 75\n",
    "spl_ids = np.arange(shapes_18.n_train)\n",
    "shuffle(spl_ids)\n",
    "spl_ids = spl_ids[:spl_size]\n",
    "\n",
    "shapes_18.spl = {\n",
    "    'x': shapes_18.train['x'][spl_ids],\n",
    "    'y': shapes_18.train['y'][spl_ids]\n",
    "}"
   ]
  },
  {
   "cell_type": "markdown",
   "metadata": {},
   "source": [
    "## 2) Studying the effect of supervision format for representation in hidden layers\n",
    "\n",
    "### 2.2) Product supervision"
   ]
  },
  {
   "cell_type": "code",
   "execution_count": null,
   "metadata": {},
   "outputs": [],
   "source": [
    "shapes_prod = [set(s1).intersection(set(s2)) for s2 in shapes_smallness for s1 in shapes_parity]\n",
    "shapes_18.build_dichLabels(shapes_prod, 'parity_prod_smaller_than_9')"
   ]
  },
  {
   "cell_type": "code",
   "execution_count": null,
   "metadata": {},
   "outputs": [],
   "source": [
    "dnn_prod = Sequential([\n",
    "    Dense(w_1, input_shape=(w_in,)),\n",
    "    Activation('tanh'),\n",
    "    Dense(w_2),\n",
    "    Activation('tanh'),\n",
    "    Dense(4),\n",
    "    Activation('tanh')\n",
    "])\n",
    "\n",
    "model = Model(dnn_prod)\n",
    "\n",
    "# Train the model, iterating on the data in batches of 32 samples\n",
    "model.fit(shapes_18, dich_name='parity_prod_smaller_than_9', epochs=10, batch_size=32)\n",
    "\n",
    "model.evaluate(shapes_18, dich_name='parity_prod_smaller_than_9', batch_size=128)"
   ]
  },
  {
   "cell_type": "code",
   "execution_count": null,
   "metadata": {},
   "outputs": [],
   "source": [
    "%matplotlib widget\n",
    "model.sample_eval(shapes_18, 2)"
   ]
  },
  {
   "cell_type": "code",
   "execution_count": null,
   "metadata": {},
   "outputs": [],
   "source": [
    "%matplotlib widget\n",
    "pca = PCA(n_components=2)\n",
    "reduced_prod_2d, fig3 = model.get_repr(shapes_18, pca, dim=2, plotting=True)\n",
    "fig3.canvas.layout.width = '80%'\n",
    "fig3.canvas.layout.height = '5000px'"
   ]
  },
  {
   "cell_type": "code",
   "execution_count": null,
   "metadata": {},
   "outputs": [],
   "source": [
    "for lay_id, red in enumerate(reduced_prod_2d):\n",
    "    print('Layer {0:d} - {1:.1f}% 2d var - {2:.1f}% + {3:.1f}%'.format(lay_id, 100*(red['expl_var'][0]+red['expl_var'][1]), 100*red['expl_var'][0], 100*red['expl_var'][1]))"
   ]
  },
  {
   "cell_type": "code",
   "execution_count": null,
   "metadata": {},
   "outputs": [],
   "source": [
    "pca3 = PCA(n_components=3)\n",
    "reduced_prod_3d, fig4 = model.get_repr(shapes_18, pca3, dim=3, plotting=True)\n",
    "fig4.canvas.layout.width = '80%'\n",
    "fig4.canvas.layout.height = '5000px'"
   ]
  },
  {
   "cell_type": "code",
   "execution_count": null,
   "metadata": {},
   "outputs": [],
   "source": [
    "for lay_id, red in enumerate(reduced_prod_3d):\n",
    "    print('Layer {0:d} - {1:.1f}% 2d var - {2:.1f}% + {3:.1f}% + {4:.1f}%'.format(lay_id, 100*(red['expl_var'][0]+red['expl_var'][1]+red['expl_var'][2]), 100*red['expl_var'][0], 100*red['expl_var'][1], 100*red['expl_var'][2]))"
   ]
  },
  {
   "cell_type": "markdown",
   "metadata": {},
   "source": [
    "### 2.3) Compact hstacking supervision"
   ]
  },
  {
   "cell_type": "code",
   "execution_count": null,
   "metadata": {},
   "outputs": [],
   "source": [
    "shapes_18.compstack_dichs('parity', 'smaller_than_9')"
   ]
  },
  {
   "cell_type": "code",
   "execution_count": null,
   "metadata": {},
   "outputs": [],
   "source": [
    "dnn_compstack = Sequential([\n",
    "    Dense(w_1, input_shape=(w_in,)),\n",
    "    Activation('tanh'),\n",
    "    Dense(w_2),\n",
    "    Activation('tanh'),\n",
    "    Dense(2),\n",
    "    Activation('tanh')\n",
    "])\n",
    "\n",
    "compstack = Model(dnn_compstack)\n",
    "\n",
    "# Train the model, iterating on the data in batches of 32 samples\n",
    "compstack.fit(shapes_18, dich_name='parity_compstack_smaller_than_9', epochs=10, batch_size=32)\n",
    "\n",
    "compstack.evaluate(shapes_18, dich_name='parity_compstack_smaller_than_9', batch_size=128)"
   ]
  },
  {
   "cell_type": "code",
   "execution_count": null,
   "metadata": {},
   "outputs": [],
   "source": [
    "%matplotlib widget\n",
    "pca = PCA(n_components=2)\n",
    "reduced_compstack_2d, fig5 = compstack.get_repr(shapes_18, pca, dim=2, plotting=True)\n",
    "fig5.canvas.layout.width = '80%'\n",
    "fig5.canvas.layout.height = '5000px'"
   ]
  },
  {
   "cell_type": "code",
   "execution_count": null,
   "metadata": {},
   "outputs": [],
   "source": [
    "for lay_id, red in enumerate(reduced_compstack_2d):\n",
    "    print('Layer {0:d} - {1:.1f}% 2d var - {2:.1f}% + {3:.1f}%'.format(lay_id, 100*(red['expl_var'][0]+red['expl_var'][1]), 100*red['expl_var'][0], 100*red['expl_var'][1]))"
   ]
  },
  {
   "cell_type": "code",
   "execution_count": null,
   "metadata": {},
   "outputs": [],
   "source": [
    "pca3 = PCA(n_components=3)\n",
    "reduced_compstack_3d, fig6 = compstack.get_repr(shapes_18, pca3, dim=3, plotting=True)\n",
    "fig6.canvas.layout.width = '80%'\n",
    "fig6.canvas.layout.height = '5000px'"
   ]
  },
  {
   "cell_type": "code",
   "execution_count": null,
   "metadata": {},
   "outputs": [],
   "source": [
    "for lay_id, red in enumerate(reduced_compstack_3d):\n",
    "    if red['avg_lbl_repr'].shape[1] > 2:\n",
    "        print('Layer {0:d} - {1:.1f}% 2d var - {2:.1f}% + {3:.1f}% + {4:.1f}%'.format(lay_id, 100*(red['expl_var'][0]+red['expl_var'][1]+red['expl_var'][2]), 100*red['expl_var'][0], 100*red['expl_var'][1], 100*red['expl_var'][2]))\n",
    "    else:\n",
    "        print('Layer {0:d} could not be projected in 3d'.format(lay_id))"
   ]
  },
  {
   "cell_type": "markdown",
   "metadata": {},
   "source": [
    "## 3) Testing representation for categorical features\n",
    "\n",
    "### 3.1) hstack"
   ]
  },
  {
   "cell_type": "code",
   "execution_count": null,
   "metadata": {},
   "outputs": [],
   "source": [
    "# Currently dichotomies will only be binary\n",
    "shapes_range = [range(0,6), range(6,12), range(12,18)]"
   ]
  },
  {
   "cell_type": "code",
   "execution_count": null,
   "metadata": {},
   "outputs": [],
   "source": [
    "shapes_18.build_dichLabels(shapes_range, 'range_bins')\n",
    "\n",
    "shapes_18.hstack_dichs('parity', 'range_bins')\n",
    "shapes_18.compstack_dichs('parity', 'range_bins')\n",
    "\n",
    "shapes_18.build_catLabels(shapes_range, 'cat_range_bins')\n",
    "shapes_18.compstack_dichs('parity', 'cat_range_bins')"
   ]
  },
  {
   "cell_type": "code",
   "execution_count": null,
   "metadata": {},
   "outputs": [],
   "source": [
    "dnn_ctg_hstack = Sequential([\n",
    "    Dense(w_1, input_shape=(w_in,)),\n",
    "    Activation('tanh'),\n",
    "    Dense(w_2),\n",
    "    Activation('tanh'),\n",
    "    Dense(5),\n",
    "    Activation('tanh')\n",
    "])\n",
    "\n",
    "ctg_hstack = Model(dnn_ctg_hstack)\n",
    "\n",
    "# Train the model, iterating on the data in batches of 32 samples\n",
    "ctg_hstack.fit(shapes_18, dich_name='parity_hstack_range_bins', epochs=20, batch_size=32)\n",
    "\n",
    "ctg_hstack.evaluate(shapes_18, dich_name='parity_hstack_range_bins', batch_size=128)"
   ]
  },
  {
   "cell_type": "code",
   "execution_count": null,
   "metadata": {},
   "outputs": [],
   "source": [
    "pca = PCA(n_components=2)\n",
    "reduced_ctg_hstack_2d, fig7 = ctg_hstack.get_repr(shapes_18, pca, plotting=True)\n",
    "fig7.canvas.layout.width = '80%'\n",
    "fig7.canvas.layout.height = '5000px'"
   ]
  },
  {
   "cell_type": "code",
   "execution_count": null,
   "metadata": {},
   "outputs": [],
   "source": [
    "for lay_id, red in enumerate(reduced_ctg_hstack_2d):\n",
    "    print('Layer {0:d} - {1:.1f}% 2d var - {2:.1f}% + {3:.1f}%'.format(lay_id, 100*(red['expl_var'][0]+red['expl_var'][1]), 100*red['expl_var'][0], 100*red['expl_var'][1]))"
   ]
  },
  {
   "cell_type": "code",
   "execution_count": null,
   "metadata": {},
   "outputs": [],
   "source": [
    "pca3 = PCA(n_components=3)\n",
    "reduced_ctg_hstack_3d, fig8 = ctg_hstack.get_repr(shapes_18, pca3, dim=3, plotting=True)\n",
    "fig8.canvas.layout.width = '80%'\n",
    "fig8.canvas.layout.height = '5000px'"
   ]
  },
  {
   "cell_type": "code",
   "execution_count": null,
   "metadata": {},
   "outputs": [],
   "source": [
    "for lay_id, red in enumerate(reduced_ctg_hstack_3d):\n",
    "    if red['avg_lbl_repr'].shape[1] > 2:\n",
    "        print('Layer {0:d} - {1:.1f}% 2d var - {2:.1f}% + {3:.1f}% + {4:.1f}%'.format(lay_id, 100*(red['expl_var'][0]+red['expl_var'][1]+red['expl_var'][2]), 100*red['expl_var'][0], 100*red['expl_var'][1], 100*red['expl_var'][2]))\n",
    "    else:\n",
    "        print('Layer {0:d} could not be projected in 3d'.format(lay_id))"
   ]
  },
  {
   "cell_type": "markdown",
   "metadata": {},
   "source": [
    "### 3.2) Product"
   ]
  },
  {
   "cell_type": "code",
   "execution_count": null,
   "metadata": {},
   "outputs": [],
   "source": [
    "shapes_ctg_prod = [set(s1).intersection(set(s2)) for s2 in shapes_range for s1 in shapes_parity]\n",
    "shapes_18.build_dichLabels(shapes_ctg_prod, 'parity_prod_range_bins')"
   ]
  },
  {
   "cell_type": "code",
   "execution_count": null,
   "metadata": {},
   "outputs": [],
   "source": [
    "w_in =shapes_18.tot_dim\n",
    "w_1 = 100\n",
    "w_2 = 100\n",
    "max_epochs = 400"
   ]
  },
  {
   "cell_type": "code",
   "execution_count": null,
   "metadata": {},
   "outputs": [],
   "source": [
    "dnn_ctg_prod = Sequential([\n",
    "    Dense(w_1, input_shape=(w_in,)),\n",
    "    Activation('tanh'),\n",
    "    Dense(w_2),\n",
    "    Activation('tanh'),\n",
    "    Dense(6),\n",
    "    Activation('tanh')\n",
    "])\n",
    "\n",
    "ctg_prod = Model(dnn_ctg_prod)\n",
    "\n",
    "# Train the model, iterating on the data in batches of 32 samples\n",
    "ctg_prod.fit(shapes_18, dich_name='parity_prod_range_bins', epochs=10, batch_size=32)\n",
    "\n",
    "ctg_prod.evaluate(shapes_18, dich_name='parity_prod_range_bins', batch_size=128)"
   ]
  },
  {
   "cell_type": "code",
   "execution_count": null,
   "metadata": {},
   "outputs": [],
   "source": [
    "pca = PCA(n_components=2)\n",
    "reduced_ctg_prod_2d, fig9 = ctg_prod.get_repr(shapes_18, pca, plotting=True)\n",
    "fig9.canvas.layout.width = '80%'\n",
    "fig9.canvas.layout.height = '5000px'"
   ]
  },
  {
   "cell_type": "code",
   "execution_count": null,
   "metadata": {},
   "outputs": [],
   "source": [
    "for lay_id, red in enumerate(reduced_ctg_prod_2d):\n",
    "    print('Layer {0:d} - {1:.1f}% 2d var - {2:.1f}% + {3:.1f}%'.format(lay_id, 100*(red['expl_var'][0]+red['expl_var'][1]), 100*red['expl_var'][0], 100*red['expl_var'][1]))"
   ]
  },
  {
   "cell_type": "code",
   "execution_count": null,
   "metadata": {},
   "outputs": [],
   "source": [
    "pca3 = PCA(n_components=3)\n",
    "reduced_ctg_prod_3d, fig10 = ctg_prod.get_repr(shapes_18, pca3, dim=3, plotting=True)\n",
    "fig10.canvas.layout.width = '80%'\n",
    "fig10.canvas.layout.height = '5000px'"
   ]
  },
  {
   "cell_type": "code",
   "execution_count": null,
   "metadata": {},
   "outputs": [],
   "source": [
    "for lay_id, red in enumerate(reduced_ctg_prod_3d):\n",
    "    if red['avg_lbl_repr'].shape[1] > 2:\n",
    "        print('Layer {0:d} - {1:.1f}% 2d var - {2:.1f}% + {3:.1f}% + {4:.1f}%'.format(lay_id, 100*(red['expl_var'][0]+red['expl_var'][1]+red['expl_var'][2]), 100*red['expl_var'][0], 100*red['expl_var'][1], 100*red['expl_var'][2]))\n",
    "    else:\n",
    "        print('Layer {0:d} could not be projected in 3d'.format(lay_id))"
   ]
  },
  {
   "cell_type": "markdown",
   "metadata": {},
   "source": [
    "### 3.3) compstack"
   ]
  },
  {
   "cell_type": "code",
   "execution_count": null,
   "metadata": {},
   "outputs": [],
   "source": [
    "w_in =shapes_18.tot_dim\n",
    "w_1 = 100\n",
    "w_2 = 100\n",
    "max_epochs = 400"
   ]
  },
  {
   "cell_type": "code",
   "execution_count": null,
   "metadata": {},
   "outputs": [],
   "source": [
    "dnn_ctg_compstack = Sequential([\n",
    "    Dense(w_1, input_shape=(w_in,)),\n",
    "    Activation('tanh'),\n",
    "    Dense(w_2),\n",
    "    Activation('tanh'),\n",
    "    Dense(2),\n",
    "    Activation('tanh')\n",
    "])\n",
    "\n",
    "ctg_compstack = Model(dnn_ctg_compstack)\n",
    "\n",
    "# Train the model, iterating on the data in batches of 32 samples\n",
    "ctg_compstack.fit(shapes_18, dich_name='parity_compstack_cat_range_bins', epochs=10, batch_size=32)\n",
    "\n",
    "ctg_compstack.evaluate(shapes_18, dich_name='parity_compstack_cat_range_bins', batch_size=128)"
   ]
  },
  {
   "cell_type": "code",
   "execution_count": null,
   "metadata": {},
   "outputs": [],
   "source": [
    "%matplotlib widget\n",
    "pca = PCA(n_components=2)\n",
    "reduced_ctg_compstack_2d, fig11 = ctg_compstack.get_repr(shapes_18, pca, plotting=True)\n",
    "fig11.canvas.layout.width = '80%'\n",
    "fig11.canvas.layout.height = '5000px'"
   ]
  },
  {
   "cell_type": "code",
   "execution_count": null,
   "metadata": {},
   "outputs": [],
   "source": [
    "for lay_id, red in enumerate(reduced_ctg_compstack_2d):\n",
    "    print('Layer {0:d} - {1:.1f}% 2d var - {2:.1f}% + {3:.1f}%'.format(lay_id, 100*(red['expl_var'][0]+red['expl_var'][1]), 100*red['expl_var'][0], 100*red['expl_var'][1]))"
   ]
  },
  {
   "cell_type": "code",
   "execution_count": null,
   "metadata": {},
   "outputs": [],
   "source": [
    "pca3 = PCA(n_components=3)\n",
    "reduced_ctg_compstack_3d, fig12 = ctg_compstack.get_repr(shapes_18, pca3, dim=3, plotting=True)\n",
    "fig12.canvas.layout.width = '80%'\n",
    "fig12.canvas.layout.height = '5000px'"
   ]
  },
  {
   "cell_type": "code",
   "execution_count": null,
   "metadata": {},
   "outputs": [],
   "source": [
    "for lay_id, red in enumerate(reduced_ctg_compstack_3d):\n",
    "    if red['avg_lbl_repr'].shape[1] > 2:\n",
    "        print('Layer {0:d} - {1:.1f}% 2d var - {2:.1f}% + {3:.1f}% + {4:.1f}%'.format(lay_id, 100*(red['expl_var'][0]+red['expl_var'][1]+red['expl_var'][2]), 100*red['expl_var'][0], 100*red['expl_var'][1], 100*red['expl_var'][2]))\n",
    "    else:\n",
    "        print('Layer {0:d} could not be projected in 3d'.format(lay_id))"
   ]
  },
  {
   "cell_type": "code",
   "execution_count": null,
   "metadata": {},
   "outputs": [],
   "source": []
  }
 ],
 "metadata": {
  "kernelspec": {
   "display_name": "Python 3",
   "language": "python",
   "name": "python3"
  },
  "language_info": {
   "codemirror_mode": {
    "name": "ipython",
    "version": 3
   },
   "file_extension": ".py",
   "mimetype": "text/x-python",
   "name": "python",
   "nbconvert_exporter": "python",
   "pygments_lexer": "ipython3",
   "version": "3.7.6"
  }
 },
 "nbformat": 4,
 "nbformat_minor": 4
}
