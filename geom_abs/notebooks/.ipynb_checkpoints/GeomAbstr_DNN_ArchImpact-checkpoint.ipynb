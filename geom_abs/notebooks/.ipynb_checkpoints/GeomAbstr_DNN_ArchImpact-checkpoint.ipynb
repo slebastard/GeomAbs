{
 "cells": [
  {
   "cell_type": "markdown",
   "metadata": {},
   "source": [
    "# Geometry of abstraction - DNN for MNIST recognition and information structure"
   ]
  },
  {
   "cell_type": "markdown",
   "metadata": {},
   "source": [
    "The geometry of abstraction in hippocampus and prefrontal cortex <br>\n",
    "Silvia Bernardi, Marcus K Benna, Mattia Rigotti, Jérôme Munuera, Stefano Fusi, Daniel Salzman <br>\n",
    "bioRxiv 2018"
   ]
  },
  {
   "cell_type": "code",
   "execution_count": 1,
   "metadata": {},
   "outputs": [
    {
     "name": "stderr",
     "output_type": "stream",
     "text": [
      "Using TensorFlow backend.\n"
     ]
    }
   ],
   "source": [
    "import pdb\n",
    "from tqdm import tqdm\n",
    "\n",
    "import numpy as np\n",
    "import pandas as pd\n",
    "\n",
    "from numpy.random import shuffle\n",
    "\n",
    "from matplotlib import pyplot as plt\n",
    "%matplotlib widget\n",
    "\n",
    "from sklearn.decomposition import PCA\n",
    "\n",
    "from keras.models import Sequential\n",
    "from keras.layers import Dense, Activation"
   ]
  },
  {
   "cell_type": "code",
   "execution_count": 2,
   "metadata": {},
   "outputs": [],
   "source": [
    "from keras.datasets import mnist"
   ]
  },
  {
   "cell_type": "code",
   "execution_count": 3,
   "metadata": {},
   "outputs": [],
   "source": [
    "import os, sys\n",
    "lib_path = os.path.abspath('../methods')\n",
    "sys.path.insert(0, lib_path)"
   ]
  },
  {
   "cell_type": "code",
   "execution_count": 4,
   "metadata": {},
   "outputs": [],
   "source": [
    "from models import Model\n",
    "from data_tools import ImageDataset\n",
    "import data_tools as dt"
   ]
  },
  {
   "cell_type": "code",
   "execution_count": 5,
   "metadata": {},
   "outputs": [],
   "source": [
    "(x_train, y_train), (x_test, y_test) = mnist.load_data()\n",
    "filt_labels = range(8)\n",
    "mnist_8 = ImageDataset(x_train, y_train, x_test, y_test, filt_labels=filt_labels, spl=0.08)"
   ]
  },
  {
   "cell_type": "markdown",
   "metadata": {},
   "source": [
    "Loading MNIST data, unfolding square to long representation:"
   ]
  },
  {
   "cell_type": "code",
   "execution_count": 6,
   "metadata": {},
   "outputs": [],
   "source": [
    "# Currently dichotomies will only be binary\n",
    "mnist_parity = [list(map(lambda x: 2*x, range(4))), list(map(lambda x: 2*x + 1, range(4)))]\n",
    "mnist_smallness = [range(0,4), range(4,8)]"
   ]
  },
  {
   "cell_type": "code",
   "execution_count": 7,
   "metadata": {},
   "outputs": [],
   "source": [
    "mnist_8.build_dichLabels(mnist_smallness, 'smaller_than_4')\n",
    "mnist_8.build_dichLabels(mnist_parity, 'parity')\n",
    "\n",
    "mnist_8.hstack_dichs('parity', 'smaller_than_4')"
   ]
  },
  {
   "cell_type": "code",
   "execution_count": 8,
   "metadata": {},
   "outputs": [],
   "source": [
    " # Alright, let's start with a three layer NN\n",
    "w_in = mnist_8.tot_dim\n",
    "w_out = 4\n",
    "max_epochs = 400"
   ]
  },
  {
   "cell_type": "code",
   "execution_count": 9,
   "metadata": {},
   "outputs": [],
   "source": [
    "spl_size = 75\n",
    "spl_ids = np.arange(mnist_8.n_train)\n",
    "shuffle(spl_ids)\n",
    "spl_ids = spl_ids[:spl_size]\n",
    "\n",
    "mnist_8.spl = {\n",
    "    'x': mnist_8.train['x'][spl_ids],\n",
    "    'y': mnist_8.train['y'][spl_ids]\n",
    "}"
   ]
  },
  {
   "cell_type": "markdown",
   "metadata": {},
   "source": [
    "## 1) Varying width of both intermediate layers"
   ]
  },
  {
   "cell_type": "code",
   "execution_count": 27,
   "metadata": {},
   "outputs": [
    {
     "name": "stderr",
     "output_type": "stream",
     "text": [
      "  4%|▍         | 1/25 [00:08<03:16,  8.17s/it]"
     ]
    },
    {
     "name": "stdout",
     "output_type": "stream",
     "text": [
      "Lay1: 10 units, Lay2: 10 units - Test accuracy: 0.68\n"
     ]
    },
    {
     "name": "stderr",
     "output_type": "stream",
     "text": [
      "  8%|▊         | 2/25 [00:20<03:33,  9.27s/it]"
     ]
    },
    {
     "name": "stdout",
     "output_type": "stream",
     "text": [
      "Lay1: 10 units, Lay2: 20 units - Test accuracy: 0.37\n"
     ]
    },
    {
     "name": "stderr",
     "output_type": "stream",
     "text": [
      " 12%|█▏        | 3/25 [00:28<03:16,  8.95s/it]"
     ]
    },
    {
     "name": "stdout",
     "output_type": "stream",
     "text": [
      "Lay1: 10 units, Lay2: 50 units - Test accuracy: 0.35\n"
     ]
    },
    {
     "name": "stderr",
     "output_type": "stream",
     "text": [
      " 16%|█▌        | 4/25 [00:36<03:01,  8.62s/it]"
     ]
    },
    {
     "name": "stdout",
     "output_type": "stream",
     "text": [
      "Lay1: 10 units, Lay2: 100 units - Test accuracy: 0.71\n"
     ]
    },
    {
     "name": "stderr",
     "output_type": "stream",
     "text": [
      " 20%|██        | 5/25 [00:46<03:04,  9.25s/it]"
     ]
    },
    {
     "name": "stdout",
     "output_type": "stream",
     "text": [
      "Lay1: 10 units, Lay2: 200 units - Test accuracy: 0.53\n"
     ]
    },
    {
     "name": "stderr",
     "output_type": "stream",
     "text": [
      " 24%|██▍       | 6/25 [00:56<03:01,  9.53s/it]"
     ]
    },
    {
     "name": "stdout",
     "output_type": "stream",
     "text": [
      "Lay1: 20 units, Lay2: 10 units - Test accuracy: 0.65\n"
     ]
    },
    {
     "name": "stderr",
     "output_type": "stream",
     "text": [
      " 28%|██▊       | 7/25 [01:05<02:47,  9.30s/it]"
     ]
    },
    {
     "name": "stdout",
     "output_type": "stream",
     "text": [
      "Lay1: 20 units, Lay2: 20 units - Test accuracy: 0.62\n"
     ]
    },
    {
     "name": "stderr",
     "output_type": "stream",
     "text": [
      " 32%|███▏      | 8/25 [01:14<02:33,  9.02s/it]"
     ]
    },
    {
     "name": "stdout",
     "output_type": "stream",
     "text": [
      "Lay1: 20 units, Lay2: 50 units - Test accuracy: 0.51\n"
     ]
    },
    {
     "name": "stderr",
     "output_type": "stream",
     "text": [
      " 36%|███▌      | 9/25 [01:22<02:22,  8.91s/it]"
     ]
    },
    {
     "name": "stdout",
     "output_type": "stream",
     "text": [
      "Lay1: 20 units, Lay2: 100 units - Test accuracy: 0.58\n"
     ]
    },
    {
     "name": "stderr",
     "output_type": "stream",
     "text": [
      " 40%|████      | 10/25 [01:31<02:13,  8.93s/it]"
     ]
    },
    {
     "name": "stdout",
     "output_type": "stream",
     "text": [
      "Lay1: 20 units, Lay2: 200 units - Test accuracy: 0.53\n"
     ]
    },
    {
     "name": "stderr",
     "output_type": "stream",
     "text": [
      " 44%|████▍     | 11/25 [01:42<02:13,  9.54s/it]"
     ]
    },
    {
     "name": "stdout",
     "output_type": "stream",
     "text": [
      "Lay1: 50 units, Lay2: 10 units - Test accuracy: 0.34\n"
     ]
    },
    {
     "name": "stderr",
     "output_type": "stream",
     "text": [
      " 48%|████▊     | 12/25 [01:53<02:07,  9.84s/it]"
     ]
    },
    {
     "name": "stdout",
     "output_type": "stream",
     "text": [
      "Lay1: 50 units, Lay2: 20 units - Test accuracy: 0.40\n"
     ]
    },
    {
     "name": "stderr",
     "output_type": "stream",
     "text": [
      " 52%|█████▏    | 13/25 [02:03<01:59,  9.97s/it]"
     ]
    },
    {
     "name": "stdout",
     "output_type": "stream",
     "text": [
      "Lay1: 50 units, Lay2: 50 units - Test accuracy: 0.62\n"
     ]
    },
    {
     "name": "stderr",
     "output_type": "stream",
     "text": [
      " 56%|█████▌    | 14/25 [02:14<01:53, 10.27s/it]"
     ]
    },
    {
     "name": "stdout",
     "output_type": "stream",
     "text": [
      "Lay1: 50 units, Lay2: 100 units - Test accuracy: 0.46\n"
     ]
    },
    {
     "name": "stderr",
     "output_type": "stream",
     "text": [
      " 60%|██████    | 15/25 [02:26<01:47, 10.71s/it]"
     ]
    },
    {
     "name": "stdout",
     "output_type": "stream",
     "text": [
      "Lay1: 50 units, Lay2: 200 units - Test accuracy: 0.52\n"
     ]
    },
    {
     "name": "stderr",
     "output_type": "stream",
     "text": [
      " 64%|██████▍   | 16/25 [02:39<01:42, 11.43s/it]"
     ]
    },
    {
     "name": "stdout",
     "output_type": "stream",
     "text": [
      "Lay1: 100 units, Lay2: 10 units - Test accuracy: 0.54\n"
     ]
    },
    {
     "name": "stderr",
     "output_type": "stream",
     "text": [
      " 68%|██████▊   | 17/25 [02:52<01:35, 11.88s/it]"
     ]
    },
    {
     "name": "stdout",
     "output_type": "stream",
     "text": [
      "Lay1: 100 units, Lay2: 20 units - Test accuracy: 0.55\n"
     ]
    },
    {
     "name": "stderr",
     "output_type": "stream",
     "text": [
      " 72%|███████▏  | 18/25 [03:05<01:25, 12.22s/it]"
     ]
    },
    {
     "name": "stdout",
     "output_type": "stream",
     "text": [
      "Lay1: 100 units, Lay2: 50 units - Test accuracy: 0.57\n"
     ]
    },
    {
     "name": "stderr",
     "output_type": "stream",
     "text": [
      " 76%|███████▌  | 19/25 [03:18<01:14, 12.47s/it]"
     ]
    },
    {
     "name": "stdout",
     "output_type": "stream",
     "text": [
      "Lay1: 100 units, Lay2: 100 units - Test accuracy: 0.54\n"
     ]
    },
    {
     "name": "stderr",
     "output_type": "stream",
     "text": [
      " 80%|████████  | 20/25 [03:32<01:04, 12.98s/it]"
     ]
    },
    {
     "name": "stdout",
     "output_type": "stream",
     "text": [
      "Lay1: 100 units, Lay2: 200 units - Test accuracy: 0.55\n"
     ]
    },
    {
     "name": "stderr",
     "output_type": "stream",
     "text": [
      " 84%|████████▍ | 21/25 [03:48<00:55, 13.79s/it]"
     ]
    },
    {
     "name": "stdout",
     "output_type": "stream",
     "text": [
      "Lay1: 200 units, Lay2: 10 units - Test accuracy: 0.69\n"
     ]
    },
    {
     "name": "stderr",
     "output_type": "stream",
     "text": [
      " 88%|████████▊ | 22/25 [04:04<00:43, 14.53s/it]"
     ]
    },
    {
     "name": "stdout",
     "output_type": "stream",
     "text": [
      "Lay1: 200 units, Lay2: 20 units - Test accuracy: 0.50\n"
     ]
    },
    {
     "name": "stderr",
     "output_type": "stream",
     "text": [
      " 92%|█████████▏| 23/25 [04:20<00:30, 15.06s/it]"
     ]
    },
    {
     "name": "stdout",
     "output_type": "stream",
     "text": [
      "Lay1: 200 units, Lay2: 50 units - Test accuracy: 0.55\n"
     ]
    },
    {
     "name": "stderr",
     "output_type": "stream",
     "text": [
      " 96%|█████████▌| 24/25 [04:37<00:15, 15.62s/it]"
     ]
    },
    {
     "name": "stdout",
     "output_type": "stream",
     "text": [
      "Lay1: 200 units, Lay2: 100 units - Test accuracy: 0.68\n"
     ]
    },
    {
     "name": "stderr",
     "output_type": "stream",
     "text": [
      "100%|██████████| 25/25 [04:57<00:00, 11.90s/it]"
     ]
    },
    {
     "name": "stdout",
     "output_type": "stream",
     "text": [
      "Lay1: 200 units, Lay2: 200 units - Test accuracy: 0.60\n"
     ]
    },
    {
     "name": "stderr",
     "output_type": "stream",
     "text": [
      "\n"
     ]
    }
   ],
   "source": [
    "widths_list = [10, 20, 50, 100, 200]\n",
    "evals = np.zeros((len(widths_list), len(widths_list)))\n",
    "reprs = {}\n",
    "\n",
    "\n",
    "pca = PCA(n_components=2)\n",
    "\n",
    "for w in tqdm([(w1, w2) for w1 in widths_list for w2 in widths_list]):\n",
    "    dnn = Sequential([\n",
    "        Dense(w[0], input_shape=(w_in,)),\n",
    "        Activation('tanh'),\n",
    "        Dense(w[1]),\n",
    "        Activation('tanh'),\n",
    "        Dense(4),\n",
    "        Activation('tanh')\n",
    "    ])\n",
    "    id_map = {10: 0, 20: 1, 50: 2, 100: 3, 200: 4}\n",
    "    model = Model(dnn)\n",
    "    # Train the model, iterating on the data in batches of 32 samples\n",
    "    model.fit(mnist_8, dich_name='parity_hstack_smaller_than_4', epochs=20, batch_size=32)\n",
    "    evals[id_map[w[0]], id_map[w[1]]] = model.evaluate(mnist_8, dich_name='parity_hstack_smaller_than_4', batch_size=128)['test_accuracy']\n",
    "    print(\"Lay1: {0:d} units, Lay2: {1:d} units - Test accuracy: {2:.2f}\".format(w[0], w[1], evals[id_map[w[0]], id_map[w[1]]]))\n",
    "    #reprs[(w_1, w_2)] = model.get_repr(mnist, pca, dim=2, plotting=True)\n",
    "    #print(\"=======================================================\")"
   ]
  },
  {
   "cell_type": "code",
   "execution_count": 28,
   "metadata": {},
   "outputs": [
    {
     "data": {
      "application/vnd.jupyter.widget-view+json": {
       "model_id": "affe5263b88b47908958129c141a9cc3",
       "version_major": 2,
       "version_minor": 0
      },
      "text/plain": [
       "Canvas(toolbar=Toolbar(toolitems=[('Home', 'Reset original view', 'home', 'home'), ('Back', 'Back to previous …"
      ]
     },
     "metadata": {},
     "output_type": "display_data"
    }
   ],
   "source": [
    "fig, ax = plt.subplots(figsize=(10,10))\n",
    "im = ax.imshow(evals)\n",
    "\n",
    "# We want to show all ticks...\n",
    "ax.set_xticks(np.arange(len(widths_list)))\n",
    "ax.set_yticks(np.arange(len(widths_list)))\n",
    "# ... and label them with the respective list entries\n",
    "ax.xaxis.set_ticks_position('top')\n",
    "ax.set_xticklabels(widths_list)\n",
    "ax.set_yticklabels(widths_list)\n",
    "\n",
    "# Rotate the tick labels and set their alignment.\n",
    "plt.setp(ax.get_xticklabels(), rotation=45, ha=\"right\",\n",
    "         rotation_mode=\"anchor\")\n",
    "\n",
    "# Loop over data dimensions and create text annotations.\n",
    "for i in range(len(widths_list)):\n",
    "    for j in range(len(widths_list)):\n",
    "        text = ax.text(j, i, evals[i, j],\n",
    "                       ha=\"center\", va=\"center\", color=\"w\")\n",
    "\n",
    "ax.set_ylabel('First hidden layer')\n",
    "ax.set_xlabel('Second hidden layer')\n",
    "ax.set_title(\"Classification scores on parity X smallness dichotomies as a function of hidden layer sizes\")\n",
    "ttl = ax.title\n",
    "ttl.set_position([.5, 1.05])\n",
    "fig.tight_layout()\n",
    "plt.show()"
   ]
  },
  {
   "cell_type": "markdown",
   "metadata": {},
   "source": [
    "## 2) Studying the effect of supervision format for representation in hidden layers"
   ]
  },
  {
   "cell_type": "code",
   "execution_count": 10,
   "metadata": {},
   "outputs": [],
   "source": [
    "mnist_prod = [set(s1).intersection(set(s2)) for s2 in mnist_smallness for s1 in mnist_parity]\n",
    "mnist_8.build_dichLabels(mnist_prod, 'parity_prod_smaller_than_4')"
   ]
  },
  {
   "cell_type": "code",
   "execution_count": 11,
   "metadata": {},
   "outputs": [],
   "source": [
    "w_in = mnist_8.tot_dim\n",
    "w_1 = 100\n",
    "w_2 = 100\n",
    "max_epochs = 400"
   ]
  },
  {
   "cell_type": "code",
   "execution_count": 12,
   "metadata": {},
   "outputs": [
    {
     "data": {
      "text/plain": [
       "{'test_accuracy': 1.0, 'test_loss': 0.0016469195297735318}"
      ]
     },
     "execution_count": 12,
     "metadata": {},
     "output_type": "execute_result"
    }
   ],
   "source": [
    "dnn_prod = Sequential([\n",
    "    Dense(w_1, input_shape=(w_in,)),\n",
    "    Activation('tanh'),\n",
    "    Dense(w_2),\n",
    "    Activation('tanh'),\n",
    "    Dense(4),\n",
    "    Activation('tanh')\n",
    "])\n",
    "\n",
    "model = Model(dnn_prod)\n",
    "\n",
    "# Train the model, iterating on the data in batches of 32 samples\n",
    "model.fit(mnist_8, dich_name='parity_prod_smaller_than_4', epochs=10, batch_size=32)\n",
    "\n",
    "model.evaluate(mnist_8, dich_name='parity_prod_smaller_than_4', batch_size=128)"
   ]
  },
  {
   "cell_type": "code",
   "execution_count": 13,
   "metadata": {},
   "outputs": [
    {
     "data": {
      "image/png": "[encoded data removed]",
      "text/plain": [
       "<Figure size 576x576 with 3 Axes>"
      ]
     },
     "metadata": {
      "needs_background": "light"
     },
     "output_type": "display_data"
    }
   ],
   "source": [
    "model.sample_eval(mnist_8, 3)"
   ]
  },
  {
   "cell_type": "code",
   "execution_count": 16,
   "metadata": {},
   "outputs": [
    {
     "data": {
      "application/vnd.jupyter.widget-view+json": {
       "model_id": "730ceb2cad4e464e8bdab121d71de7e8",
       "version_major": 2,
       "version_minor": 0
      },
      "text/plain": [
       "Canvas(toolbar=Toolbar(toolitems=[('Home', 'Reset original view', 'home', 'home'), ('Back', 'Back to previous …"
      ]
     },
     "metadata": {},
     "output_type": "display_data"
    }
   ],
   "source": [
    "%matplotlib widget\n",
    "pca = PCA(n_components=2)\n",
    "reduced, fig1 = model.get_repr(mnist_8, pca, dim=2, plotting=True)\n",
    "fig1.canvas.layout.width = '80%'\n",
    "fig1.canvas.layout.height = '5000px'"
   ]
  },
  {
   "cell_type": "code",
   "execution_count": 25,
   "metadata": {},
   "outputs": [
    {
     "name": "stdout",
     "output_type": "stream",
     "text": [
      "Layer 0 - 43.8% 2d var - 28.0% + 15.8%\n",
      "Layer 1 - 39.1% 2d var - 21.8% + 17.3%\n",
      "Layer 2 - 70.9% 2d var - 42.8% + 28.1%\n",
      "Layer 3 - 64.0% 2d var - 35.5% + 28.6%\n",
      "Layer 4 - 95.1% 2d var - 61.3% + 33.8%\n",
      "Layer 5 - 99.6% 2d var - 60.3% + 39.3%\n"
     ]
    }
   ],
   "source": [
    "for lay_id, red in enumerate(reduced):\n",
    "    print('Layer {0:d} - {1:.1f}% 2d var - {2:.1f}% + {3:.1f}%'.format(lay_id, 100*(red['expl_var'][0]+red['expl_var'][1]), 100*red['expl_var'][0], 100*red['expl_var'][1]))"
   ]
  },
  {
   "cell_type": "code",
   "execution_count": 17,
   "metadata": {},
   "outputs": [
    {
     "data": {
      "application/vnd.jupyter.widget-view+json": {
       "model_id": "3acef4a637fa4026904bccb0f96b8823",
       "version_major": 2,
       "version_minor": 0
      },
      "text/plain": [
       "Canvas(toolbar=Toolbar(toolitems=[('Home', 'Reset original view', 'home', 'home'), ('Back', 'Back to previous …"
      ]
     },
     "metadata": {},
     "output_type": "display_data"
    }
   ],
   "source": [
    "pca3 = PCA(n_components=3)\n",
    "reduced, fig2 = model.get_repr(mnist_8, pca3, dim=3, plotting=True)\n",
    "fig2.canvas.layout.width = '80%'\n",
    "fig2.canvas.layout.height = '5000px'"
   ]
  },
  {
   "cell_type": "code",
   "execution_count": 27,
   "metadata": {},
   "outputs": [
    {
     "name": "stdout",
     "output_type": "stream",
     "text": [
      "Layer 0 - 57.9% 2d var - 28.0% + 15.8% + 14.1%\n",
      "Layer 1 - 50.1% 2d var - 21.8% + 17.3% + 11.0%\n",
      "Layer 2 - 85.0% 2d var - 42.8% + 28.1% + 14.1%\n",
      "Layer 3 - 78.8% 2d var - 35.5% + 28.6% + 14.8%\n",
      "Layer 4 - 98.6% 2d var - 61.3% + 33.8% + 3.5%\n",
      "Layer 5 - 99.8% 2d var - 60.3% + 39.3% + 0.3%\n"
     ]
    }
   ],
   "source": [
    "for lay_id, red in enumerate(reduced):\n",
    "    print('Layer {0:d} - {1:.1f}% 2d var - {2:.1f}% + {3:.1f}% + {4:.1f}%'.format(lay_id, 100*(red['expl_var'][0]+red['expl_var'][1]+red['expl_var'][2]), 100*red['expl_var'][0], 100*red['expl_var'][1], 100*red['expl_var'][2]))"
   ]
  },
  {
   "cell_type": "markdown",
   "metadata": {},
   "source": [
    "## 3) Testing representation for categorical features - hstack"
   ]
  },
  {
   "cell_type": "code",
   "execution_count": 18,
   "metadata": {},
   "outputs": [],
   "source": [
    "mnist_10 = ImageDataset(x_train, y_train, x_test, y_test, spl=0.4)"
   ]
  },
  {
   "cell_type": "code",
   "execution_count": 19,
   "metadata": {},
   "outputs": [],
   "source": [
    "mnist_10.build_dichLabels(mnist_smallness, 'smaller_than_4')\n",
    "mnist_10.build_dichLabels(mnist_parity, 'parity')\n",
    "\n",
    "mnist_10.hstack_dichs('parity', 'smaller_than_4')"
   ]
  },
  {
   "cell_type": "code",
   "execution_count": 20,
   "metadata": {},
   "outputs": [],
   "source": [
    " # Alright, let's start with a three layer NN\n",
    "w_in = mnist_10.tot_dim\n",
    "w_out = 4\n",
    "max_epochs = 400"
   ]
  },
  {
   "cell_type": "code",
   "execution_count": 21,
   "metadata": {},
   "outputs": [],
   "source": [
    "spl_size = 75\n",
    "spl_ids = np.arange(mnist_10.n_train)\n",
    "shuffle(spl_ids)\n",
    "spl_ids = spl_ids[:spl_size]\n",
    "\n",
    "mnist_10.spl = {\n",
    "    'x': mnist_10.train['x'][spl_ids],\n",
    "    'y': mnist_10.train['y'][spl_ids]\n",
    "}"
   ]
  },
  {
   "cell_type": "code",
   "execution_count": 22,
   "metadata": {},
   "outputs": [],
   "source": [
    "# Currently dichotomies will only be binary\n",
    "mnist_range = [range(0,4), range(4,8), range(8,10)]"
   ]
  },
  {
   "cell_type": "code",
   "execution_count": 23,
   "metadata": {},
   "outputs": [],
   "source": [
    "mnist_10.build_dichLabels(mnist_range, 'range_bins')\n",
    "\n",
    "mnist_10.hstack_dichs('parity', 'range_bins')"
   ]
  },
  {
   "cell_type": "code",
   "execution_count": 24,
   "metadata": {},
   "outputs": [
    {
     "data": {
      "text/plain": [
       "{'test_accuracy': 0.6448000073432922, 'test_loss': 0.0281884020537138}"
      ]
     },
     "execution_count": 24,
     "metadata": {},
     "output_type": "execute_result"
    }
   ],
   "source": [
    "dnn_ctg_hstack = Sequential([\n",
    "    Dense(w_1, input_shape=(w_in,)),\n",
    "    Activation('tanh'),\n",
    "    Dense(w_2),\n",
    "    Activation('tanh'),\n",
    "    Dense(5),\n",
    "    Activation('tanh')\n",
    "])\n",
    "\n",
    "model_ctg_hstack = Model(dnn_ctg_hstack)\n",
    "\n",
    "# Train the model, iterating on the data in batches of 32 samples\n",
    "model_ctg_hstack.fit(mnist_10, dich_name='parity_hstack_range_bins', epochs=20, batch_size=32)\n",
    "\n",
    "model_ctg_hstack.evaluate(mnist_10, dich_name='parity_hstack_range_bins', batch_size=128)"
   ]
  },
  {
   "cell_type": "code",
   "execution_count": 25,
   "metadata": {},
   "outputs": [
    {
     "data": {
      "application/vnd.jupyter.widget-view+json": {
       "model_id": "11866199621c422a8407347c68d7c86a",
       "version_major": 2,
       "version_minor": 0
      },
      "text/plain": [
       "Canvas(toolbar=Toolbar(toolitems=[('Home', 'Reset original view', 'home', 'home'), ('Back', 'Back to previous …"
      ]
     },
     "metadata": {},
     "output_type": "display_data"
    }
   ],
   "source": [
    "pca = PCA(n_components=2)\n",
    "reduced_ctg_hstack_2, fig3 = model_ctg_hstack.get_repr(mnist_10, pca, plotting=True)\n",
    "fig3.canvas.layout.width = '80%'\n",
    "fig3.canvas.layout.height = '5000px'"
   ]
  },
  {
   "cell_type": "code",
   "execution_count": null,
   "metadata": {},
   "outputs": [],
   "source": [
    "for lay_id, red in enumerate(reduced_ctg_hstack_2):\n",
    "    print('Layer {0:d} - {1:.1f}% 2d var - {2:.1f}% + {3:.1f}%'.format(lay_id, 100*(red['expl_var'][0]+red['expl_var'][1]), 100*red['expl_var'][0], 100*red['expl_var'][1]))"
   ]
  },
  {
   "cell_type": "code",
   "execution_count": 26,
   "metadata": {},
   "outputs": [
    {
     "data": {
      "application/vnd.jupyter.widget-view+json": {
       "model_id": "91a8d4b2fcfc40aebb2f2b097d1f9868",
       "version_major": 2,
       "version_minor": 0
      },
      "text/plain": [
       "Canvas(toolbar=Toolbar(toolitems=[('Home', 'Reset original view', 'home', 'home'), ('Back', 'Back to previous …"
      ]
     },
     "metadata": {},
     "output_type": "display_data"
    }
   ],
   "source": [
    "pca3 = PCA(n_components=3)\n",
    "reduced_ctg_hstack_3, fig4 = model_ctg_hstack.get_repr(mnist_10, pca3, dim=3, plotting=True)\n",
    "fig4.canvas.layout.width = '80%'\n",
    "fig4.canvas.layout.height = '5000px'"
   ]
  },
  {
   "cell_type": "code",
   "execution_count": null,
   "metadata": {},
   "outputs": [],
   "source": [
    "for lay_id, red in enumerate(reduced_ctg_hstack_3):\n",
    "    print('Layer {0:d} - {1:.1f}% 2d var - {2:.1f}% + {3:.1f}% + {4:.1f}%'.format(lay_id, 100*(red['expl_var'][0]+red['expl_var'][1]+red['expl_var'][2]), 100*red['expl_var'][0], 100*red['expl_var'][1], 100*red['expl_var'][2]))"
   ]
  },
  {
   "cell_type": "markdown",
   "metadata": {},
   "source": [
    "## 4) Testing representation for categorical features - prod"
   ]
  },
  {
   "cell_type": "code",
   "execution_count": 29,
   "metadata": {},
   "outputs": [],
   "source": [
    "mnist_ctg_prod = [set(s1).intersection(set(s2)) for s2 in mnist_range for s1 in mnist_parity]\n",
    "mnist_10.build_dichLabels(mnist_ctg_prod, 'parity_prod_range_bins')"
   ]
  },
  {
   "cell_type": "code",
   "execution_count": 30,
   "metadata": {},
   "outputs": [],
   "source": [
    "w_in = mnist_10.tot_dim\n",
    "w_1 = 100\n",
    "w_2 = 100\n",
    "max_epochs = 400"
   ]
  },
  {
   "cell_type": "code",
   "execution_count": 31,
   "metadata": {},
   "outputs": [
    {
     "data": {
      "text/plain": [
       "{'test_accuracy': 1.0, 'test_loss': 0.0017842069629579783}"
      ]
     },
     "execution_count": 31,
     "metadata": {},
     "output_type": "execute_result"
    }
   ],
   "source": [
    "dnn_ctg_prod = Sequential([\n",
    "    Dense(w_1, input_shape=(w_in,)),\n",
    "    Activation('tanh'),\n",
    "    Dense(w_2),\n",
    "    Activation('tanh'),\n",
    "    Dense(6),\n",
    "    Activation('tanh')\n",
    "])\n",
    "\n",
    "model_ctg_prod = Model(dnn_ctg_prod)\n",
    "\n",
    "# Train the model, iterating on the data in batches of 32 samples\n",
    "model_ctg_prod.fit(mnist_10, dich_name='parity_prod_range_bins', epochs=10, batch_size=32)\n",
    "\n",
    "model_ctg_prod.evaluate(mnist_10, dich_name='parity_prod_range_bins', batch_size=128)"
   ]
  },
  {
   "cell_type": "code",
   "execution_count": 32,
   "metadata": {},
   "outputs": [
    {
     "data": {
      "application/vnd.jupyter.widget-view+json": {
       "model_id": "c986136d16bd42ae8e6b9805d8989da5",
       "version_major": 2,
       "version_minor": 0
      },
      "text/plain": [
       "Canvas(toolbar=Toolbar(toolitems=[('Home', 'Reset original view', 'home', 'home'), ('Back', 'Back to previous …"
      ]
     },
     "metadata": {},
     "output_type": "display_data"
    }
   ],
   "source": [
    "pca = PCA(n_components=2)\n",
    "reduced_ctg_prod_2d, fig5 = model_ctg_prod.get_repr(mnist_10, pca, plotting=True)\n",
    "fig5.canvas.layout.width = '80%'\n",
    "fig5.canvas.layout.height = '5000px'"
   ]
  },
  {
   "cell_type": "code",
   "execution_count": null,
   "metadata": {},
   "outputs": [],
   "source": [
    "for lay_id, red in enumerate(reduced_ctg_prod_2d):\n",
    "    print('Layer {0:d} - {1:.1f}% 2d var - {2:.1f}% + {3:.1f}%'.format(lay_id, 100*(red['expl_var'][0]+red['expl_var'][1]), 100*red['expl_var'][0], 100*red['expl_var'][1]))"
   ]
  },
  {
   "cell_type": "code",
   "execution_count": 33,
   "metadata": {},
   "outputs": [
    {
     "data": {
      "application/vnd.jupyter.widget-view+json": {
       "model_id": "ca77cd44611c445ea8a3f9c94998b7e0",
       "version_major": 2,
       "version_minor": 0
      },
      "text/plain": [
       "Canvas(toolbar=Toolbar(toolitems=[('Home', 'Reset original view', 'home', 'home'), ('Back', 'Back to previous …"
      ]
     },
     "metadata": {},
     "output_type": "display_data"
    }
   ],
   "source": [
    "pca3 = PCA(n_components=3)\n",
    "reduced_ctg_prod_3d, fig6 = model_ctg_prod.get_repr(mnist_10, pca3, dim=3, plotting=True)\n",
    "fig6.canvas.layout.width = '80%'\n",
    "fig6.canvas.layout.height = '5000px'"
   ]
  },
  {
   "cell_type": "code",
   "execution_count": null,
   "metadata": {},
   "outputs": [],
   "source": [
    "for lay_id, red in enumerate(reduced_ctg_prod_3d):\n",
    "    print('Layer {0:d} - {1:.1f}% 2d var - {2:.1f}% + {3:.1f}% + {4:.1f}%'.format(lay_id, 100*(red['expl_var'][0]+red['expl_var'][1]+red['expl_var'][2]), 100*red['expl_var'][0], 100*red['expl_var'][1], 100*red['expl_var'][2]))"
   ]
  }
 ],
 "metadata": {
  "kernelspec": {
   "display_name": "Python 3",
   "language": "python",
   "name": "python3"
  },
  "language_info": {
   "codemirror_mode": {
    "name": "ipython",
    "version": 3
   },
   "file_extension": ".py",
   "mimetype": "text/x-python",
   "name": "python",
   "nbconvert_exporter": "python",
   "pygments_lexer": "ipython3",
   "version": "3.5.2"
  }
 },
 "nbformat": 4,
 "nbformat_minor": 4
}
